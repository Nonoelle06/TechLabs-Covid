{
 "metadata": {
  "language_info": {
   "codemirror_mode": {
    "name": "ipython",
    "version": 3
   },
   "file_extension": ".py",
   "mimetype": "text/x-python",
   "name": "python",
   "nbconvert_exporter": "python",
   "pygments_lexer": "ipython3",
   "version": "3.9.4"
  },
  "orig_nbformat": 2,
  "kernelspec": {
   "name": "python394jvsc74a57bd0683b2bfffa77c69086b4bf7e9115c8c2d5dab6c8ad511760e860f6a3d9265adc",
   "display_name": "Python 3.9.4 64-bit"
  }
 },
 "nbformat": 4,
 "nbformat_minor": 2,
 "cells": [
  {
   "cell_type": "code",
   "execution_count": 1,
   "metadata": {},
   "outputs": [
    {
     "output_type": "execute_result",
     "data": {
      "text/plain": [
       "['2018-01-01',\n",
       " '2018-01-02',\n",
       " '2018-01-01',\n",
       " '2018-01-02',\n",
       " '2018-01-01',\n",
       " '2018-01-02']"
      ]
     },
     "metadata": {},
     "execution_count": 1
    }
   ],
   "source": [
    "import numpy as numpy\n",
    "import pandas as pd \n",
    "\n",
    "\n",
    "dates = [\"2018-01-01\", \"2018-01-02\", \"2018-01-01\", \"2018-01-02\", \"2018-01-01\", \"2018-01-02\"]\n",
    "\n",
    "dates"
   ]
  },
  {
   "cell_type": "code",
   "execution_count": 3,
   "metadata": {},
   "outputs": [],
   "source": [
    "columns = [\"country\", \"cases\", \"vaccines\"]\n",
    "\n",
    "row1 = [\"GER\", 3, 20]\n",
    "row2 = [\"GER\", 4, 12]\n",
    "row3 = [\"USA\", 5, 23]\n",
    "row4 = [\"USA\", 1, 13]\n",
    "row5 = [\"FRA\", 3, 42]\n",
    "row6 = [\"FRA\", 7, 9]\n",
    "\n",
    "df1 = pd.DataFrame([row1, row2, row3, row4, row5, row6], columns=columns)\n",
    "\n"
   ]
  },
  {
   "cell_type": "code",
   "execution_count": 4,
   "metadata": {},
   "outputs": [
    {
     "output_type": "execute_result",
     "data": {
      "text/plain": [
       "  country  cases  vaccines\n",
       "0     GER      3        20\n",
       "1     GER      4        12\n",
       "2     USA      5        23\n",
       "3     USA      1        13\n",
       "4     FRA      3        42\n",
       "5     FRA      7         9"
      ],
      "text/html": "<div>\n<style scoped>\n    .dataframe tbody tr th:only-of-type {\n        vertical-align: middle;\n    }\n\n    .dataframe tbody tr th {\n        vertical-align: top;\n    }\n\n    .dataframe thead th {\n        text-align: right;\n    }\n</style>\n<table border=\"1\" class=\"dataframe\">\n  <thead>\n    <tr style=\"text-align: right;\">\n      <th></th>\n      <th>country</th>\n      <th>cases</th>\n      <th>vaccines</th>\n    </tr>\n  </thead>\n  <tbody>\n    <tr>\n      <th>0</th>\n      <td>GER</td>\n      <td>3</td>\n      <td>20</td>\n    </tr>\n    <tr>\n      <th>1</th>\n      <td>GER</td>\n      <td>4</td>\n      <td>12</td>\n    </tr>\n    <tr>\n      <th>2</th>\n      <td>USA</td>\n      <td>5</td>\n      <td>23</td>\n    </tr>\n    <tr>\n      <th>3</th>\n      <td>USA</td>\n      <td>1</td>\n      <td>13</td>\n    </tr>\n    <tr>\n      <th>4</th>\n      <td>FRA</td>\n      <td>3</td>\n      <td>42</td>\n    </tr>\n    <tr>\n      <th>5</th>\n      <td>FRA</td>\n      <td>7</td>\n      <td>9</td>\n    </tr>\n  </tbody>\n</table>\n</div>"
     },
     "metadata": {},
     "execution_count": 4
    }
   ],
   "source": [
    "df1"
   ]
  },
  {
   "cell_type": "code",
   "execution_count": 16,
   "metadata": {},
   "outputs": [],
   "source": [
    "columns = [\"country\", \"mutant\", \"deaths\"]\n",
    "\n",
    "rrow1 = [\"USA\", 3, 10]\n",
    "rrow2 = [\"USA\", 4, 16]\n",
    "rrow3 = [\"FRA\", 5, 33]\n",
    "rrow4 = [\"FRA\", 1, 11]\n",
    "rrow5 = [\"GER\", 3, 12]\n",
    "rrow6 = [\"GER\", 7, 29]\n",
    "\n",
    "df2 = pd.DataFrame([rrow1, rrow2, rrow3, rrow4, rrow5, rrow6], columns=columns)"
   ]
  },
  {
   "cell_type": "code",
   "execution_count": 11,
   "metadata": {},
   "outputs": [
    {
     "output_type": "execute_result",
     "data": {
      "text/plain": [
       "  country  cases  vaccines      dates\n",
       "0     GER      3        20 2018-01-01\n",
       "1     GER      4        12 2018-01-02\n",
       "2     USA      5        23 2018-01-01\n",
       "3     USA      1        13 2018-01-02\n",
       "4     FRA      3        42 2018-01-01\n",
       "5     FRA      7         9 2018-01-02"
      ],
      "text/html": "<div>\n<style scoped>\n    .dataframe tbody tr th:only-of-type {\n        vertical-align: middle;\n    }\n\n    .dataframe tbody tr th {\n        vertical-align: top;\n    }\n\n    .dataframe thead th {\n        text-align: right;\n    }\n</style>\n<table border=\"1\" class=\"dataframe\">\n  <thead>\n    <tr style=\"text-align: right;\">\n      <th></th>\n      <th>country</th>\n      <th>cases</th>\n      <th>vaccines</th>\n      <th>dates</th>\n    </tr>\n  </thead>\n  <tbody>\n    <tr>\n      <th>0</th>\n      <td>GER</td>\n      <td>3</td>\n      <td>20</td>\n      <td>2018-01-01</td>\n    </tr>\n    <tr>\n      <th>1</th>\n      <td>GER</td>\n      <td>4</td>\n      <td>12</td>\n      <td>2018-01-02</td>\n    </tr>\n    <tr>\n      <th>2</th>\n      <td>USA</td>\n      <td>5</td>\n      <td>23</td>\n      <td>2018-01-01</td>\n    </tr>\n    <tr>\n      <th>3</th>\n      <td>USA</td>\n      <td>1</td>\n      <td>13</td>\n      <td>2018-01-02</td>\n    </tr>\n    <tr>\n      <th>4</th>\n      <td>FRA</td>\n      <td>3</td>\n      <td>42</td>\n      <td>2018-01-01</td>\n    </tr>\n    <tr>\n      <th>5</th>\n      <td>FRA</td>\n      <td>7</td>\n      <td>9</td>\n      <td>2018-01-02</td>\n    </tr>\n  </tbody>\n</table>\n</div>"
     },
     "metadata": {},
     "execution_count": 11
    }
   ],
   "source": [
    "df1[\"dates\"] = pd.to_datetime(dates)\n",
    "df1"
   ]
  },
  {
   "cell_type": "code",
   "execution_count": 17,
   "metadata": {},
   "outputs": [
    {
     "output_type": "execute_result",
     "data": {
      "text/plain": [
       "  country  mutant  deaths\n",
       "0     USA       3      10\n",
       "1     USA       4      16\n",
       "2     FRA       5      33\n",
       "3     FRA       1      11\n",
       "4     GER       3      12\n",
       "5     GER       7      29"
      ],
      "text/html": "<div>\n<style scoped>\n    .dataframe tbody tr th:only-of-type {\n        vertical-align: middle;\n    }\n\n    .dataframe tbody tr th {\n        vertical-align: top;\n    }\n\n    .dataframe thead th {\n        text-align: right;\n    }\n</style>\n<table border=\"1\" class=\"dataframe\">\n  <thead>\n    <tr style=\"text-align: right;\">\n      <th></th>\n      <th>country</th>\n      <th>mutant</th>\n      <th>deaths</th>\n    </tr>\n  </thead>\n  <tbody>\n    <tr>\n      <th>0</th>\n      <td>USA</td>\n      <td>3</td>\n      <td>10</td>\n    </tr>\n    <tr>\n      <th>1</th>\n      <td>USA</td>\n      <td>4</td>\n      <td>16</td>\n    </tr>\n    <tr>\n      <th>2</th>\n      <td>FRA</td>\n      <td>5</td>\n      <td>33</td>\n    </tr>\n    <tr>\n      <th>3</th>\n      <td>FRA</td>\n      <td>1</td>\n      <td>11</td>\n    </tr>\n    <tr>\n      <th>4</th>\n      <td>GER</td>\n      <td>3</td>\n      <td>12</td>\n    </tr>\n    <tr>\n      <th>5</th>\n      <td>GER</td>\n      <td>7</td>\n      <td>29</td>\n    </tr>\n  </tbody>\n</table>\n</div>"
     },
     "metadata": {},
     "execution_count": 17
    }
   ],
   "source": [
    "df2"
   ]
  },
  {
   "cell_type": "code",
   "execution_count": 18,
   "metadata": {},
   "outputs": [
    {
     "output_type": "execute_result",
     "data": {
      "text/plain": [
       "  country  mutant  deaths      dates\n",
       "0     USA       3      10 2018-01-01\n",
       "1     USA       4      16 2018-01-02\n",
       "2     FRA       5      33 2018-01-01\n",
       "3     FRA       1      11 2018-01-02\n",
       "4     GER       3      12 2018-01-01\n",
       "5     GER       7      29 2018-01-02"
      ],
      "text/html": "<div>\n<style scoped>\n    .dataframe tbody tr th:only-of-type {\n        vertical-align: middle;\n    }\n\n    .dataframe tbody tr th {\n        vertical-align: top;\n    }\n\n    .dataframe thead th {\n        text-align: right;\n    }\n</style>\n<table border=\"1\" class=\"dataframe\">\n  <thead>\n    <tr style=\"text-align: right;\">\n      <th></th>\n      <th>country</th>\n      <th>mutant</th>\n      <th>deaths</th>\n      <th>dates</th>\n    </tr>\n  </thead>\n  <tbody>\n    <tr>\n      <th>0</th>\n      <td>USA</td>\n      <td>3</td>\n      <td>10</td>\n      <td>2018-01-01</td>\n    </tr>\n    <tr>\n      <th>1</th>\n      <td>USA</td>\n      <td>4</td>\n      <td>16</td>\n      <td>2018-01-02</td>\n    </tr>\n    <tr>\n      <th>2</th>\n      <td>FRA</td>\n      <td>5</td>\n      <td>33</td>\n      <td>2018-01-01</td>\n    </tr>\n    <tr>\n      <th>3</th>\n      <td>FRA</td>\n      <td>1</td>\n      <td>11</td>\n      <td>2018-01-02</td>\n    </tr>\n    <tr>\n      <th>4</th>\n      <td>GER</td>\n      <td>3</td>\n      <td>12</td>\n      <td>2018-01-01</td>\n    </tr>\n    <tr>\n      <th>5</th>\n      <td>GER</td>\n      <td>7</td>\n      <td>29</td>\n      <td>2018-01-02</td>\n    </tr>\n  </tbody>\n</table>\n</div>"
     },
     "metadata": {},
     "execution_count": 18
    }
   ],
   "source": [
    "df2[\"dates\"] = pd.to_datetime(dates)\n",
    "df2\n",
    "\n"
   ]
  },
  {
   "cell_type": "code",
   "execution_count": 19,
   "metadata": {},
   "outputs": [
    {
     "output_type": "execute_result",
     "data": {
      "text/plain": [
       "  country  cases  vaccines      dates  mutant  deaths\n",
       "0     GER      3        20 2018-01-01       3      12\n",
       "1     GER      4        12 2018-01-02       7      29\n",
       "2     USA      5        23 2018-01-01       3      10\n",
       "3     USA      1        13 2018-01-02       4      16\n",
       "4     FRA      3        42 2018-01-01       5      33\n",
       "5     FRA      7         9 2018-01-02       1      11"
      ],
      "text/html": "<div>\n<style scoped>\n    .dataframe tbody tr th:only-of-type {\n        vertical-align: middle;\n    }\n\n    .dataframe tbody tr th {\n        vertical-align: top;\n    }\n\n    .dataframe thead th {\n        text-align: right;\n    }\n</style>\n<table border=\"1\" class=\"dataframe\">\n  <thead>\n    <tr style=\"text-align: right;\">\n      <th></th>\n      <th>country</th>\n      <th>cases</th>\n      <th>vaccines</th>\n      <th>dates</th>\n      <th>mutant</th>\n      <th>deaths</th>\n    </tr>\n  </thead>\n  <tbody>\n    <tr>\n      <th>0</th>\n      <td>GER</td>\n      <td>3</td>\n      <td>20</td>\n      <td>2018-01-01</td>\n      <td>3</td>\n      <td>12</td>\n    </tr>\n    <tr>\n      <th>1</th>\n      <td>GER</td>\n      <td>4</td>\n      <td>12</td>\n      <td>2018-01-02</td>\n      <td>7</td>\n      <td>29</td>\n    </tr>\n    <tr>\n      <th>2</th>\n      <td>USA</td>\n      <td>5</td>\n      <td>23</td>\n      <td>2018-01-01</td>\n      <td>3</td>\n      <td>10</td>\n    </tr>\n    <tr>\n      <th>3</th>\n      <td>USA</td>\n      <td>1</td>\n      <td>13</td>\n      <td>2018-01-02</td>\n      <td>4</td>\n      <td>16</td>\n    </tr>\n    <tr>\n      <th>4</th>\n      <td>FRA</td>\n      <td>3</td>\n      <td>42</td>\n      <td>2018-01-01</td>\n      <td>5</td>\n      <td>33</td>\n    </tr>\n    <tr>\n      <th>5</th>\n      <td>FRA</td>\n      <td>7</td>\n      <td>9</td>\n      <td>2018-01-02</td>\n      <td>1</td>\n      <td>11</td>\n    </tr>\n  </tbody>\n</table>\n</div>"
     },
     "metadata": {},
     "execution_count": 19
    }
   ],
   "source": [
    "df1.merge(df2, left_on=[\"dates\", \"country\"], right_on=[\"dates\", \"country\"], how=\"inner\")"
   ]
  },
  {
   "cell_type": "code",
   "execution_count": null,
   "metadata": {},
   "outputs": [],
   "source": []
  }
 ]
}