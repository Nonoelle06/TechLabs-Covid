{
 "metadata": {
  "language_info": {
   "codemirror_mode": {
    "name": "ipython",
    "version": 3
   },
   "file_extension": ".py",
   "mimetype": "text/x-python",
   "name": "python",
   "nbconvert_exporter": "python",
   "pygments_lexer": "ipython3",
   "version": "3.9.4"
  },
  "orig_nbformat": 2,
  "kernelspec": {
   "name": "python394jvsc74a57bd0e7dff930e46267b29322d9d5626d927127c6d9cca521f94774441ff39bc92782",
   "display_name": "Python 3.9.4 64-bit"
  },
  "metadata": {
   "interpreter": {
    "hash": "e7dff930e46267b29322d9d5626d927127c6d9cca521f94774441ff39bc92782"
   }
  }
 },
 "nbformat": 4,
 "nbformat_minor": 2,
 "cells": [
  {
   "cell_type": "code",
   "execution_count": 1,
   "metadata": {},
   "outputs": [
    {
     "output_type": "stream",
     "name": "stdout",
     "text": [
      "30\n30\n"
     ]
    }
   ],
   "source": [
    "import numpy as np\n",
    "import pandas as pd\n",
    "\n",
    "\n",
    "df_vaccination = pd.read_csv(\"vaccination/vaccination in the EU.csv\")\n",
    "df_cases = pd.read_csv(\"cases_deaths/daily number of new reported.csv\")\n",
    "\n",
    "vac_count = len(df_vaccination[\"ReportingCountry\"].unique())\n",
    "cases_count = len(df_cases[\"countriesAndTerritories\"].unique())\n",
    "\n",
    "print(vac_count)\n",
    "print(cases_count)"
   ]
  },
  {
   "cell_type": "code",
   "execution_count": 7,
   "metadata": {},
   "outputs": [
    {
     "output_type": "execute_result",
     "data": {
      "text/plain": [
       "      dateRep  day  month  year  cases  deaths countriesAndTerritories geoId  \\\n",
       "0  29/04/2021   29      4  2021   2286      29                 Austria    AT   \n",
       "1  28/04/2021   28      4  2021   1557      20                 Austria    AT   \n",
       "2  27/04/2021   27      4  2021   1380      22                 Austria    AT   \n",
       "3  26/04/2021   26      4  2021   2091      11                 Austria    AT   \n",
       "4  25/04/2021   25      4  2021   2231      15                 Austria    AT   \n",
       "\n",
       "  countryterritoryCode  popData2020 continentExp  \n",
       "0                  AUT      8901064       Europe  \n",
       "1                  AUT      8901064       Europe  \n",
       "2                  AUT      8901064       Europe  \n",
       "3                  AUT      8901064       Europe  \n",
       "4                  AUT      8901064       Europe  "
      ],
      "text/html": "<div>\n<style scoped>\n    .dataframe tbody tr th:only-of-type {\n        vertical-align: middle;\n    }\n\n    .dataframe tbody tr th {\n        vertical-align: top;\n    }\n\n    .dataframe thead th {\n        text-align: right;\n    }\n</style>\n<table border=\"1\" class=\"dataframe\">\n  <thead>\n    <tr style=\"text-align: right;\">\n      <th></th>\n      <th>dateRep</th>\n      <th>day</th>\n      <th>month</th>\n      <th>year</th>\n      <th>cases</th>\n      <th>deaths</th>\n      <th>countriesAndTerritories</th>\n      <th>geoId</th>\n      <th>countryterritoryCode</th>\n      <th>popData2020</th>\n      <th>continentExp</th>\n    </tr>\n  </thead>\n  <tbody>\n    <tr>\n      <th>0</th>\n      <td>29/04/2021</td>\n      <td>29</td>\n      <td>4</td>\n      <td>2021</td>\n      <td>2286</td>\n      <td>29</td>\n      <td>Austria</td>\n      <td>AT</td>\n      <td>AUT</td>\n      <td>8901064</td>\n      <td>Europe</td>\n    </tr>\n    <tr>\n      <th>1</th>\n      <td>28/04/2021</td>\n      <td>28</td>\n      <td>4</td>\n      <td>2021</td>\n      <td>1557</td>\n      <td>20</td>\n      <td>Austria</td>\n      <td>AT</td>\n      <td>AUT</td>\n      <td>8901064</td>\n      <td>Europe</td>\n    </tr>\n    <tr>\n      <th>2</th>\n      <td>27/04/2021</td>\n      <td>27</td>\n      <td>4</td>\n      <td>2021</td>\n      <td>1380</td>\n      <td>22</td>\n      <td>Austria</td>\n      <td>AT</td>\n      <td>AUT</td>\n      <td>8901064</td>\n      <td>Europe</td>\n    </tr>\n    <tr>\n      <th>3</th>\n      <td>26/04/2021</td>\n      <td>26</td>\n      <td>4</td>\n      <td>2021</td>\n      <td>2091</td>\n      <td>11</td>\n      <td>Austria</td>\n      <td>AT</td>\n      <td>AUT</td>\n      <td>8901064</td>\n      <td>Europe</td>\n    </tr>\n    <tr>\n      <th>4</th>\n      <td>25/04/2021</td>\n      <td>25</td>\n      <td>4</td>\n      <td>2021</td>\n      <td>2231</td>\n      <td>15</td>\n      <td>Austria</td>\n      <td>AT</td>\n      <td>AUT</td>\n      <td>8901064</td>\n      <td>Europe</td>\n    </tr>\n  </tbody>\n</table>\n</div>"
     },
     "metadata": {},
     "execution_count": 7
    }
   ],
   "source": [
    "df_cases.head()"
   ]
  },
  {
   "cell_type": "code",
   "execution_count": 11,
   "metadata": {},
   "outputs": [
    {
     "output_type": "execute_result",
     "data": {
      "text/plain": [
       "'object'"
      ]
     },
     "metadata": {},
     "execution_count": 11
    }
   ],
   "source": [
    "df_cases[\"dateRep\"].dtype.name"
   ]
  },
  {
   "cell_type": "code",
   "execution_count": 13,
   "metadata": {},
   "outputs": [
    {
     "output_type": "execute_result",
     "data": {
      "text/plain": [
       "'datetime64[ns]'"
      ]
     },
     "metadata": {},
     "execution_count": 13
    }
   ],
   "source": [
    "df_cases[\"dateRep\"] = pd.to_datetime(df_cases[\"dateRep\"])\n",
    "df_cases[\"dateRep\"].dtype.name"
   ]
  },
  {
   "cell_type": "code",
   "execution_count": 6,
   "metadata": {},
   "outputs": [
    {
     "output_type": "execute_result",
     "data": {
      "text/plain": [
       "  YearWeekISO  FirstDose  FirstDoseRefused  SecondDose  UnknownDose  \\\n",
       "0    2020-W53          0               0.0           0            0   \n",
       "1    2020-W53       2655               0.0           0            0   \n",
       "2    2020-W53          0               0.0           0            0   \n",
       "3    2020-W53          0               0.0           0            0   \n",
       "4    2020-W53       2368               0.0           0            0   \n",
       "\n",
       "   NumberDosesReceived Region  Population ReportingCountry TargetGroup  \\\n",
       "0                  0.0     AT     8901064               AT    1_Age60+   \n",
       "1              61425.0     AT     8901064               AT    1_Age60+   \n",
       "2                  0.0     AT     8901064               AT    1_Age60+   \n",
       "3                  0.0     AT     8901064               AT    1_Age60+   \n",
       "4              61425.0     AT     8901064               AT    1_Age<60   \n",
       "\n",
       "  Vaccine  Denominator  \n",
       "0      AZ    2259262.0  \n",
       "1     COM    2259262.0  \n",
       "2   JANSS    2259262.0  \n",
       "3     MOD    2259262.0  \n",
       "4     COM    5099181.0  "
      ],
      "text/html": "<div>\n<style scoped>\n    .dataframe tbody tr th:only-of-type {\n        vertical-align: middle;\n    }\n\n    .dataframe tbody tr th {\n        vertical-align: top;\n    }\n\n    .dataframe thead th {\n        text-align: right;\n    }\n</style>\n<table border=\"1\" class=\"dataframe\">\n  <thead>\n    <tr style=\"text-align: right;\">\n      <th></th>\n      <th>YearWeekISO</th>\n      <th>FirstDose</th>\n      <th>FirstDoseRefused</th>\n      <th>SecondDose</th>\n      <th>UnknownDose</th>\n      <th>NumberDosesReceived</th>\n      <th>Region</th>\n      <th>Population</th>\n      <th>ReportingCountry</th>\n      <th>TargetGroup</th>\n      <th>Vaccine</th>\n      <th>Denominator</th>\n    </tr>\n  </thead>\n  <tbody>\n    <tr>\n      <th>0</th>\n      <td>2020-W53</td>\n      <td>0</td>\n      <td>0.0</td>\n      <td>0</td>\n      <td>0</td>\n      <td>0.0</td>\n      <td>AT</td>\n      <td>8901064</td>\n      <td>AT</td>\n      <td>1_Age60+</td>\n      <td>AZ</td>\n      <td>2259262.0</td>\n    </tr>\n    <tr>\n      <th>1</th>\n      <td>2020-W53</td>\n      <td>2655</td>\n      <td>0.0</td>\n      <td>0</td>\n      <td>0</td>\n      <td>61425.0</td>\n      <td>AT</td>\n      <td>8901064</td>\n      <td>AT</td>\n      <td>1_Age60+</td>\n      <td>COM</td>\n      <td>2259262.0</td>\n    </tr>\n    <tr>\n      <th>2</th>\n      <td>2020-W53</td>\n      <td>0</td>\n      <td>0.0</td>\n      <td>0</td>\n      <td>0</td>\n      <td>0.0</td>\n      <td>AT</td>\n      <td>8901064</td>\n      <td>AT</td>\n      <td>1_Age60+</td>\n      <td>JANSS</td>\n      <td>2259262.0</td>\n    </tr>\n    <tr>\n      <th>3</th>\n      <td>2020-W53</td>\n      <td>0</td>\n      <td>0.0</td>\n      <td>0</td>\n      <td>0</td>\n      <td>0.0</td>\n      <td>AT</td>\n      <td>8901064</td>\n      <td>AT</td>\n      <td>1_Age60+</td>\n      <td>MOD</td>\n      <td>2259262.0</td>\n    </tr>\n    <tr>\n      <th>4</th>\n      <td>2020-W53</td>\n      <td>2368</td>\n      <td>0.0</td>\n      <td>0</td>\n      <td>0</td>\n      <td>61425.0</td>\n      <td>AT</td>\n      <td>8901064</td>\n      <td>AT</td>\n      <td>1_Age&lt;60</td>\n      <td>COM</td>\n      <td>5099181.0</td>\n    </tr>\n  </tbody>\n</table>\n</div>"
     },
     "metadata": {},
     "execution_count": 6
    }
   ],
   "source": [
    "df_vaccination.head()"
   ]
  },
  {
   "cell_type": "code",
   "execution_count": 21,
   "metadata": {},
   "outputs": [],
   "source": [
    "import matplotlib.pyplot as plt\n"
   ]
  },
  {
   "cell_type": "code",
   "execution_count": null,
   "metadata": {},
   "outputs": [],
   "source": [
    "#Problem: Beide Datensätze sind nicht gleich groß! Das müssen wir ändern, um überhaupt ein Regressionsmodell zu Impfen und Erkrankungen erstellen zu können\n",
    "#Neue Variable einführen, die angibt, wie viel Prozent der Bevölkerung geimpft ist und das als Einflussgröße nehmen - nicht die absoluten Werte\n",
    "#Die Zeiten beider Datenquellen auf einen Nenner bringen, wenn nötig auch Vaccine entfernen... es ist ja uns egal, mit welchem Impfstoff die Leute geimpft wurden"
   ]
  }
 ]
}