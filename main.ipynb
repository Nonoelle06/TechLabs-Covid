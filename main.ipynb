{
 "metadata": {
  "language_info": {
   "codemirror_mode": {
    "name": "ipython",
    "version": 3
   },
   "file_extension": ".py",
   "mimetype": "text/x-python",
   "name": "python",
   "nbconvert_exporter": "python",
   "pygments_lexer": "ipython3",
   "version": "3.9.4"
  },
  "orig_nbformat": 2,
  "kernelspec": {
   "name": "python394jvsc74a57bd0683b2bfffa77c69086b4bf7e9115c8c2d5dab6c8ad511760e860f6a3d9265adc",
   "display_name": "Python 3.9.4 64-bit"
  }
 },
 "nbformat": 4,
 "nbformat_minor": 2,
 "cells": [
  {
   "cell_type": "code",
   "execution_count": 5,
   "metadata": {},
   "outputs": [
    {
     "output_type": "stream",
     "name": "stdout",
     "text": [
      "30\n30\n30\n"
     ]
    }
   ],
   "source": [
    "import numpy as np\n",
    "import pandas as pd\n",
    "\n",
    "\n",
    "df_vaccination = pd.read_csv(\"vaccination/vaccination in the EU.csv\")\n",
    "df_cases = pd.read_csv(\"cases_deaths/daily number of new reported.csv\")\n",
    "df_variants = pd.read_csv(\"variants/variants in the EU.csv\")\n",
    "\n",
    "vac_count = len(df_vaccination[\"ReportingCountry\"].unique())\n",
    "cases_count = len(df_cases[\"countriesAndTerritories\"].unique())\n",
    "var_country_count = len(df_variants[\"country_code\"].unique())\n",
    "\n",
    "print(vac_count)\n",
    "print(cases_count)\n",
    "print(var_country_count)"
   ]
  },
  {
   "cell_type": "code",
   "execution_count": null,
   "metadata": {},
   "outputs": [],
   "source": []
  }
 ]
}