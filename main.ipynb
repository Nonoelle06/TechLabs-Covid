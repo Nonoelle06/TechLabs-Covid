{
 "metadata": {
  "language_info": {
   "codemirror_mode": {
    "name": "ipython",
    "version": 3
   },
   "file_extension": ".py",
   "mimetype": "text/x-python",
   "name": "python",
   "nbconvert_exporter": "python",
   "pygments_lexer": "ipython3",
   "version": "3.7.3"
  },
  "orig_nbformat": 2,
  "kernelspec": {
   "name": "python373jvsc74a57bd02a8612904e7512ccae3f4126d6c437211fb8e1ddb93b23490f277466dcafd2e4",
   "display_name": "Python 3.7.3 64-bit ('base': conda)"
  }
 },
 "nbformat": 4,
 "nbformat_minor": 2,
 "cells": [
  {
   "cell_type": "code",
   "execution_count": 9,
   "metadata": {},
   "outputs": [
    {
     "output_type": "stream",
     "name": "stdout",
     "text": [
      "30\n30\n"
     ]
    }
   ],
   "source": [
    "import pandas as pd\n",
    "import matplotlib.pyplot as plt\n",
    "import seaborn as sns\n",
    "import numpy as np\n",
    "\n",
    "\n",
    "df_vaccination = pd.read_csv(\"vaccination/vaccination in the EU.csv\")\n",
    "df_cases = pd.read_csv(\"cases_deaths/daily number of new reported.csv\")\n",
    "\n",
    "vac_count = len(df_vaccination[\"ReportingCountry\"].unique())\n",
    "cases_count = len(df_cases[\"countriesAndTerritories\"].unique())\n",
    "\n",
    "print(vac_count)\n",
    "print(cases_count)"
   ]
  },
  {
   "cell_type": "code",
   "execution_count": 4,
   "metadata": {},
   "outputs": [
    {
     "output_type": "execute_result",
     "data": {
      "text/plain": [
       "      dateRep  day  month  year  cases  deaths countriesAndTerritories geoId  \\\n",
       "0  29/04/2021   29      4  2021   2286      29                 Austria    AT   \n",
       "1  28/04/2021   28      4  2021   1557      20                 Austria    AT   \n",
       "2  27/04/2021   27      4  2021   1380      22                 Austria    AT   \n",
       "3  26/04/2021   26      4  2021   2091      11                 Austria    AT   \n",
       "4  25/04/2021   25      4  2021   2231      15                 Austria    AT   \n",
       "\n",
       "  countryterritoryCode  popData2020 continentExp  \n",
       "0                  AUT      8901064       Europe  \n",
       "1                  AUT      8901064       Europe  \n",
       "2                  AUT      8901064       Europe  \n",
       "3                  AUT      8901064       Europe  \n",
       "4                  AUT      8901064       Europe  "
      ],
      "text/html": "<div>\n<style scoped>\n    .dataframe tbody tr th:only-of-type {\n        vertical-align: middle;\n    }\n\n    .dataframe tbody tr th {\n        vertical-align: top;\n    }\n\n    .dataframe thead th {\n        text-align: right;\n    }\n</style>\n<table border=\"1\" class=\"dataframe\">\n  <thead>\n    <tr style=\"text-align: right;\">\n      <th></th>\n      <th>dateRep</th>\n      <th>day</th>\n      <th>month</th>\n      <th>year</th>\n      <th>cases</th>\n      <th>deaths</th>\n      <th>countriesAndTerritories</th>\n      <th>geoId</th>\n      <th>countryterritoryCode</th>\n      <th>popData2020</th>\n      <th>continentExp</th>\n    </tr>\n  </thead>\n  <tbody>\n    <tr>\n      <th>0</th>\n      <td>29/04/2021</td>\n      <td>29</td>\n      <td>4</td>\n      <td>2021</td>\n      <td>2286</td>\n      <td>29</td>\n      <td>Austria</td>\n      <td>AT</td>\n      <td>AUT</td>\n      <td>8901064</td>\n      <td>Europe</td>\n    </tr>\n    <tr>\n      <th>1</th>\n      <td>28/04/2021</td>\n      <td>28</td>\n      <td>4</td>\n      <td>2021</td>\n      <td>1557</td>\n      <td>20</td>\n      <td>Austria</td>\n      <td>AT</td>\n      <td>AUT</td>\n      <td>8901064</td>\n      <td>Europe</td>\n    </tr>\n    <tr>\n      <th>2</th>\n      <td>27/04/2021</td>\n      <td>27</td>\n      <td>4</td>\n      <td>2021</td>\n      <td>1380</td>\n      <td>22</td>\n      <td>Austria</td>\n      <td>AT</td>\n      <td>AUT</td>\n      <td>8901064</td>\n      <td>Europe</td>\n    </tr>\n    <tr>\n      <th>3</th>\n      <td>26/04/2021</td>\n      <td>26</td>\n      <td>4</td>\n      <td>2021</td>\n      <td>2091</td>\n      <td>11</td>\n      <td>Austria</td>\n      <td>AT</td>\n      <td>AUT</td>\n      <td>8901064</td>\n      <td>Europe</td>\n    </tr>\n    <tr>\n      <th>4</th>\n      <td>25/04/2021</td>\n      <td>25</td>\n      <td>4</td>\n      <td>2021</td>\n      <td>2231</td>\n      <td>15</td>\n      <td>Austria</td>\n      <td>AT</td>\n      <td>AUT</td>\n      <td>8901064</td>\n      <td>Europe</td>\n    </tr>\n  </tbody>\n</table>\n</div>"
     },
     "metadata": {},
     "execution_count": 4
    }
   ],
   "source": [
    "df_cases.head()"
   ]
  },
  {
   "cell_type": "code",
   "execution_count": 5,
   "metadata": {},
   "outputs": [
    {
     "output_type": "execute_result",
     "data": {
      "text/plain": [
       "  YearWeekISO  FirstDose  FirstDoseRefused  SecondDose  UnknownDose  \\\n",
       "0    2020-W53          0               0.0           0            0   \n",
       "1    2020-W53       2655               0.0           0            0   \n",
       "2    2020-W53          0               0.0           0            0   \n",
       "3    2020-W53          0               0.0           0            0   \n",
       "4    2020-W53       2368               0.0           0            0   \n",
       "\n",
       "   NumberDosesReceived Region  Population ReportingCountry TargetGroup  \\\n",
       "0                  0.0     AT     8901064               AT    1_Age60+   \n",
       "1              61425.0     AT     8901064               AT    1_Age60+   \n",
       "2                  0.0     AT     8901064               AT    1_Age60+   \n",
       "3                  0.0     AT     8901064               AT    1_Age60+   \n",
       "4              61425.0     AT     8901064               AT    1_Age<60   \n",
       "\n",
       "  Vaccine  Denominator  \n",
       "0      AZ    2259262.0  \n",
       "1     COM    2259262.0  \n",
       "2   JANSS    2259262.0  \n",
       "3     MOD    2259262.0  \n",
       "4     COM    5099181.0  "
      ],
      "text/html": "<div>\n<style scoped>\n    .dataframe tbody tr th:only-of-type {\n        vertical-align: middle;\n    }\n\n    .dataframe tbody tr th {\n        vertical-align: top;\n    }\n\n    .dataframe thead th {\n        text-align: right;\n    }\n</style>\n<table border=\"1\" class=\"dataframe\">\n  <thead>\n    <tr style=\"text-align: right;\">\n      <th></th>\n      <th>YearWeekISO</th>\n      <th>FirstDose</th>\n      <th>FirstDoseRefused</th>\n      <th>SecondDose</th>\n      <th>UnknownDose</th>\n      <th>NumberDosesReceived</th>\n      <th>Region</th>\n      <th>Population</th>\n      <th>ReportingCountry</th>\n      <th>TargetGroup</th>\n      <th>Vaccine</th>\n      <th>Denominator</th>\n    </tr>\n  </thead>\n  <tbody>\n    <tr>\n      <th>0</th>\n      <td>2020-W53</td>\n      <td>0</td>\n      <td>0.0</td>\n      <td>0</td>\n      <td>0</td>\n      <td>0.0</td>\n      <td>AT</td>\n      <td>8901064</td>\n      <td>AT</td>\n      <td>1_Age60+</td>\n      <td>AZ</td>\n      <td>2259262.0</td>\n    </tr>\n    <tr>\n      <th>1</th>\n      <td>2020-W53</td>\n      <td>2655</td>\n      <td>0.0</td>\n      <td>0</td>\n      <td>0</td>\n      <td>61425.0</td>\n      <td>AT</td>\n      <td>8901064</td>\n      <td>AT</td>\n      <td>1_Age60+</td>\n      <td>COM</td>\n      <td>2259262.0</td>\n    </tr>\n    <tr>\n      <th>2</th>\n      <td>2020-W53</td>\n      <td>0</td>\n      <td>0.0</td>\n      <td>0</td>\n      <td>0</td>\n      <td>0.0</td>\n      <td>AT</td>\n      <td>8901064</td>\n      <td>AT</td>\n      <td>1_Age60+</td>\n      <td>JANSS</td>\n      <td>2259262.0</td>\n    </tr>\n    <tr>\n      <th>3</th>\n      <td>2020-W53</td>\n      <td>0</td>\n      <td>0.0</td>\n      <td>0</td>\n      <td>0</td>\n      <td>0.0</td>\n      <td>AT</td>\n      <td>8901064</td>\n      <td>AT</td>\n      <td>1_Age60+</td>\n      <td>MOD</td>\n      <td>2259262.0</td>\n    </tr>\n    <tr>\n      <th>4</th>\n      <td>2020-W53</td>\n      <td>2368</td>\n      <td>0.0</td>\n      <td>0</td>\n      <td>0</td>\n      <td>61425.0</td>\n      <td>AT</td>\n      <td>8901064</td>\n      <td>AT</td>\n      <td>1_Age&lt;60</td>\n      <td>COM</td>\n      <td>5099181.0</td>\n    </tr>\n  </tbody>\n</table>\n</div>"
     },
     "metadata": {},
     "execution_count": 5
    }
   ],
   "source": [
    "df_vaccination.head()"
   ]
  },
  {
   "cell_type": "code",
   "execution_count": 10,
   "metadata": {},
   "outputs": [
    {
     "output_type": "execute_result",
     "data": {
      "text/plain": [
       "               day        month    year         cases        deaths  \\\n",
       "count  1800.000000  1800.000000  1800.0  1.800000e+03   1800.000000   \n",
       "mean     15.516111     3.482222  2021.0  1.698139e+04    380.662222   \n",
       "std       8.685843     0.500934     0.0  1.612360e+05   4151.124089   \n",
       "min       1.000000     2.000000  2021.0 -2.001000e+03     -5.000000   \n",
       "25%       8.000000     3.000000  2021.0  4.297500e+02      2.000000   \n",
       "50%      15.500000     3.000000  2021.0  1.279000e+03     18.000000   \n",
       "75%      23.000000     4.000000  2021.0  5.406250e+03    103.250000   \n",
       "max      31.000000     4.000000  2021.0  3.755968e+06  97699.000000   \n",
       "\n",
       "        popData2020  \n",
       "count  1.800000e+03  \n",
       "mean   1.510301e+07  \n",
       "std    2.122037e+07  \n",
       "min    3.874700e+04  \n",
       "25%    2.095861e+06  \n",
       "50%    6.387122e+06  \n",
       "75%    1.152244e+07  \n",
       "max    8.316671e+07  "
      ],
      "text/html": "<div>\n<style scoped>\n    .dataframe tbody tr th:only-of-type {\n        vertical-align: middle;\n    }\n\n    .dataframe tbody tr th {\n        vertical-align: top;\n    }\n\n    .dataframe thead th {\n        text-align: right;\n    }\n</style>\n<table border=\"1\" class=\"dataframe\">\n  <thead>\n    <tr style=\"text-align: right;\">\n      <th></th>\n      <th>day</th>\n      <th>month</th>\n      <th>year</th>\n      <th>cases</th>\n      <th>deaths</th>\n      <th>popData2020</th>\n    </tr>\n  </thead>\n  <tbody>\n    <tr>\n      <th>count</th>\n      <td>1800.000000</td>\n      <td>1800.000000</td>\n      <td>1800.0</td>\n      <td>1.800000e+03</td>\n      <td>1800.000000</td>\n      <td>1.800000e+03</td>\n    </tr>\n    <tr>\n      <th>mean</th>\n      <td>15.516111</td>\n      <td>3.482222</td>\n      <td>2021.0</td>\n      <td>1.698139e+04</td>\n      <td>380.662222</td>\n      <td>1.510301e+07</td>\n    </tr>\n    <tr>\n      <th>std</th>\n      <td>8.685843</td>\n      <td>0.500934</td>\n      <td>0.0</td>\n      <td>1.612360e+05</td>\n      <td>4151.124089</td>\n      <td>2.122037e+07</td>\n    </tr>\n    <tr>\n      <th>min</th>\n      <td>1.000000</td>\n      <td>2.000000</td>\n      <td>2021.0</td>\n      <td>-2.001000e+03</td>\n      <td>-5.000000</td>\n      <td>3.874700e+04</td>\n    </tr>\n    <tr>\n      <th>25%</th>\n      <td>8.000000</td>\n      <td>3.000000</td>\n      <td>2021.0</td>\n      <td>4.297500e+02</td>\n      <td>2.000000</td>\n      <td>2.095861e+06</td>\n    </tr>\n    <tr>\n      <th>50%</th>\n      <td>15.500000</td>\n      <td>3.000000</td>\n      <td>2021.0</td>\n      <td>1.279000e+03</td>\n      <td>18.000000</td>\n      <td>6.387122e+06</td>\n    </tr>\n    <tr>\n      <th>75%</th>\n      <td>23.000000</td>\n      <td>4.000000</td>\n      <td>2021.0</td>\n      <td>5.406250e+03</td>\n      <td>103.250000</td>\n      <td>1.152244e+07</td>\n    </tr>\n    <tr>\n      <th>max</th>\n      <td>31.000000</td>\n      <td>4.000000</td>\n      <td>2021.0</td>\n      <td>3.755968e+06</td>\n      <td>97699.000000</td>\n      <td>8.316671e+07</td>\n    </tr>\n  </tbody>\n</table>\n</div>"
     },
     "metadata": {},
     "execution_count": 10
    }
   ],
   "source": [
    "df_cases.describe()"
   ]
  },
  {
   "cell_type": "code",
   "execution_count": 13,
   "metadata": {},
   "outputs": [
    {
     "output_type": "execute_result",
     "data": {
      "text/plain": [
       "dateRep                    0\n",
       "day                        0\n",
       "month                      0\n",
       "year                       0\n",
       "cases                      0\n",
       "deaths                     0\n",
       "countriesAndTerritories    0\n",
       "geoId                      0\n",
       "countryterritoryCode       0\n",
       "popData2020                0\n",
       "continentExp               0\n",
       "dtype: int64"
      ]
     },
     "metadata": {},
     "execution_count": 13
    }
   ],
   "source": [
    "df_cases.isnull().sum()"
   ]
  },
  {
   "cell_type": "code",
   "execution_count": 14,
   "metadata": {},
   "outputs": [
    {
     "output_type": "execute_result",
     "data": {
      "text/plain": [
       "YearWeekISO                0\n",
       "FirstDose                  0\n",
       "FirstDoseRefused       13905\n",
       "SecondDose                 0\n",
       "UnknownDose                0\n",
       "NumberDosesReceived    22212\n",
       "Region                     0\n",
       "Population                 0\n",
       "ReportingCountry           0\n",
       "TargetGroup                0\n",
       "Vaccine                    0\n",
       "Denominator             6683\n",
       "dtype: int64"
      ]
     },
     "metadata": {},
     "execution_count": 14
    }
   ],
   "source": [
    "df_vaccination.isnull().sum()"
   ]
  },
  {
   "cell_type": "code",
   "execution_count": 22,
   "metadata": {},
   "outputs": [],
   "source": [
    "result = pd.concat([df_cases, df_vaccination], axis=1)\n"
   ]
  },
  {
   "cell_type": "code",
   "execution_count": 24,
   "metadata": {},
   "outputs": [
    {
     "output_type": "execute_result",
     "data": {
      "text/plain": [
       "      dateRep  day  month  year  cases  deaths countriesAndTerritories geoId  \\\n",
       "29280     NaN  NaN    NaN   NaN    NaN     NaN                     NaN   NaN   \n",
       "29281     NaN  NaN    NaN   NaN    NaN     NaN                     NaN   NaN   \n",
       "29282     NaN  NaN    NaN   NaN    NaN     NaN                     NaN   NaN   \n",
       "29283     NaN  NaN    NaN   NaN    NaN     NaN                     NaN   NaN   \n",
       "29284     NaN  NaN    NaN   NaN    NaN     NaN                     NaN   NaN   \n",
       "\n",
       "      countryterritoryCode  popData2020  ... FirstDoseRefused SecondDose  \\\n",
       "29280                  NaN          NaN  ...              NaN      11366   \n",
       "29281                  NaN          NaN  ...              NaN      59038   \n",
       "29282                  NaN          NaN  ...              NaN          8   \n",
       "29283                  NaN          NaN  ...              NaN      11697   \n",
       "29284                  NaN          NaN  ...              NaN       1556   \n",
       "\n",
       "       UnknownDose  NumberDosesReceived  Region  Population  ReportingCountry  \\\n",
       "29280            0              40800.0      SK     5457873                SK   \n",
       "29281            0              73710.0      SK     5457873                SK   \n",
       "29282            0                  0.0      SK     5457873                SK   \n",
       "29283            0                  0.0      SK     5457873                SK   \n",
       "29284            0                  0.0      SK     5457873                SK   \n",
       "\n",
       "      TargetGroup  Vaccine Denominator  \n",
       "29280         ALL       AZ   4437897.0  \n",
       "29281         ALL      COM   4437897.0  \n",
       "29282         ALL       AZ   4437897.0  \n",
       "29283         ALL      COM   4437897.0  \n",
       "29284         ALL      MOD   4437897.0  \n",
       "\n",
       "[5 rows x 23 columns]"
      ],
      "text/html": "<div>\n<style scoped>\n    .dataframe tbody tr th:only-of-type {\n        vertical-align: middle;\n    }\n\n    .dataframe tbody tr th {\n        vertical-align: top;\n    }\n\n    .dataframe thead th {\n        text-align: right;\n    }\n</style>\n<table border=\"1\" class=\"dataframe\">\n  <thead>\n    <tr style=\"text-align: right;\">\n      <th></th>\n      <th>dateRep</th>\n      <th>day</th>\n      <th>month</th>\n      <th>year</th>\n      <th>cases</th>\n      <th>deaths</th>\n      <th>countriesAndTerritories</th>\n      <th>geoId</th>\n      <th>countryterritoryCode</th>\n      <th>popData2020</th>\n      <th>...</th>\n      <th>FirstDoseRefused</th>\n      <th>SecondDose</th>\n      <th>UnknownDose</th>\n      <th>NumberDosesReceived</th>\n      <th>Region</th>\n      <th>Population</th>\n      <th>ReportingCountry</th>\n      <th>TargetGroup</th>\n      <th>Vaccine</th>\n      <th>Denominator</th>\n    </tr>\n  </thead>\n  <tbody>\n    <tr>\n      <th>29280</th>\n      <td>NaN</td>\n      <td>NaN</td>\n      <td>NaN</td>\n      <td>NaN</td>\n      <td>NaN</td>\n      <td>NaN</td>\n      <td>NaN</td>\n      <td>NaN</td>\n      <td>NaN</td>\n      <td>NaN</td>\n      <td>...</td>\n      <td>NaN</td>\n      <td>11366</td>\n      <td>0</td>\n      <td>40800.0</td>\n      <td>SK</td>\n      <td>5457873</td>\n      <td>SK</td>\n      <td>ALL</td>\n      <td>AZ</td>\n      <td>4437897.0</td>\n    </tr>\n    <tr>\n      <th>29281</th>\n      <td>NaN</td>\n      <td>NaN</td>\n      <td>NaN</td>\n      <td>NaN</td>\n      <td>NaN</td>\n      <td>NaN</td>\n      <td>NaN</td>\n      <td>NaN</td>\n      <td>NaN</td>\n      <td>NaN</td>\n      <td>...</td>\n      <td>NaN</td>\n      <td>59038</td>\n      <td>0</td>\n      <td>73710.0</td>\n      <td>SK</td>\n      <td>5457873</td>\n      <td>SK</td>\n      <td>ALL</td>\n      <td>COM</td>\n      <td>4437897.0</td>\n    </tr>\n    <tr>\n      <th>29282</th>\n      <td>NaN</td>\n      <td>NaN</td>\n      <td>NaN</td>\n      <td>NaN</td>\n      <td>NaN</td>\n      <td>NaN</td>\n      <td>NaN</td>\n      <td>NaN</td>\n      <td>NaN</td>\n      <td>NaN</td>\n      <td>...</td>\n      <td>NaN</td>\n      <td>8</td>\n      <td>0</td>\n      <td>0.0</td>\n      <td>SK</td>\n      <td>5457873</td>\n      <td>SK</td>\n      <td>ALL</td>\n      <td>AZ</td>\n      <td>4437897.0</td>\n    </tr>\n    <tr>\n      <th>29283</th>\n      <td>NaN</td>\n      <td>NaN</td>\n      <td>NaN</td>\n      <td>NaN</td>\n      <td>NaN</td>\n      <td>NaN</td>\n      <td>NaN</td>\n      <td>NaN</td>\n      <td>NaN</td>\n      <td>NaN</td>\n      <td>...</td>\n      <td>NaN</td>\n      <td>11697</td>\n      <td>0</td>\n      <td>0.0</td>\n      <td>SK</td>\n      <td>5457873</td>\n      <td>SK</td>\n      <td>ALL</td>\n      <td>COM</td>\n      <td>4437897.0</td>\n    </tr>\n    <tr>\n      <th>29284</th>\n      <td>NaN</td>\n      <td>NaN</td>\n      <td>NaN</td>\n      <td>NaN</td>\n      <td>NaN</td>\n      <td>NaN</td>\n      <td>NaN</td>\n      <td>NaN</td>\n      <td>NaN</td>\n      <td>NaN</td>\n      <td>...</td>\n      <td>NaN</td>\n      <td>1556</td>\n      <td>0</td>\n      <td>0.0</td>\n      <td>SK</td>\n      <td>5457873</td>\n      <td>SK</td>\n      <td>ALL</td>\n      <td>MOD</td>\n      <td>4437897.0</td>\n    </tr>\n  </tbody>\n</table>\n<p>5 rows × 23 columns</p>\n</div>"
     },
     "metadata": {},
     "execution_count": 24
    }
   ],
   "source": [
    "result.tail()"
   ]
  },
  {
   "cell_type": "code",
   "execution_count": 25,
   "metadata": {},
   "outputs": [
    {
     "output_type": "execute_result",
     "data": {
      "text/plain": [
       "dateRep                    27485\n",
       "day                        27485\n",
       "month                      27485\n",
       "year                       27485\n",
       "cases                      27485\n",
       "deaths                     27485\n",
       "countriesAndTerritories    27485\n",
       "geoId                      27485\n",
       "countryterritoryCode       27485\n",
       "popData2020                27485\n",
       "continentExp               27485\n",
       "YearWeekISO                    0\n",
       "FirstDose                      0\n",
       "FirstDoseRefused           13905\n",
       "SecondDose                     0\n",
       "UnknownDose                    0\n",
       "NumberDosesReceived        22212\n",
       "Region                         0\n",
       "Population                     0\n",
       "ReportingCountry               0\n",
       "TargetGroup                    0\n",
       "Vaccine                        0\n",
       "Denominator                 6683\n",
       "dtype: int64"
      ]
     },
     "metadata": {},
     "execution_count": 25
    }
   ],
   "source": [
    "result.isnull().sum()"
   ]
  },
  {
   "cell_type": "code",
   "execution_count": null,
   "metadata": {},
   "outputs": [],
   "source": []
  }
 ]
}