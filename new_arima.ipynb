{
 "cells": [
  {
   "cell_type": "code",
   "execution_count": 41,
   "source": [
    "import pandas as pd\r\n",
    "import numpy as np \r\n",
    "import matplotlib.pyplot as plt\r\n",
    "\r\n",
    "vaccinations_df = pd.read_csv(\"dataset_final.csv\")\r\n",
    "vaccinations_df[\"iso_code\"].value_counts()"
   ],
   "outputs": [
    {
     "output_type": "execute_result",
     "data": {
      "text/plain": [
       "NOR    216\n",
       "LVA    215\n",
       "DNK    201\n",
       "LIE    195\n",
       "SVN    192\n",
       "SWE    192\n",
       "AUT    192\n",
       "CZE    192\n",
       "LTU    192\n",
       "PRT    192\n",
       "EST    192\n",
       "ITA    192\n",
       "FRA    191\n",
       "ROU    191\n",
       "GRC    191\n",
       "DEU    191\n",
       "BEL    191\n",
       "POL    191\n",
       "BGR    190\n",
       "LUX    189\n",
       "HRV    188\n",
       "FIN    188\n",
       "IRL    187\n",
       "ISL    185\n",
       "SVK    184\n",
       "HUN    184\n",
       "ESP    183\n",
       "CYP    182\n",
       "NLD    178\n",
       "MLT    170\n",
       "Name: iso_code, dtype: int64"
      ]
     },
     "metadata": {},
     "execution_count": 41
    }
   ],
   "metadata": {}
  },
  {
   "cell_type": "code",
   "execution_count": 45,
   "source": [
    "de_df = vaccinations_df[vaccinations_df[\"iso_code\"] == \"AUT\"][\"people_fully_vaccinated\"]\r\n",
    "de_df = de_df.reset_index()\r\n",
    "de_df = de_df.dropna()\r\n",
    "de_df = de_df.drop(columns=[\"index\"])\r\n",
    "de_df\r\n"
   ],
   "outputs": [
    {
     "output_type": "execute_result",
     "data": {
      "text/plain": [
       "     people_fully_vaccinated\n",
       "20                      11.0\n",
       "21                     377.0\n",
       "22                    1268.0\n",
       "23                    2735.0\n",
       "24                    4049.0\n",
       "..                       ...\n",
       "187                3286985.0\n",
       "188                3337033.0\n",
       "189                3363244.0\n",
       "190                3394460.0\n",
       "191                3448649.0\n",
       "\n",
       "[172 rows x 1 columns]"
      ],
      "text/html": [
       "<div>\n",
       "<style scoped>\n",
       "    .dataframe tbody tr th:only-of-type {\n",
       "        vertical-align: middle;\n",
       "    }\n",
       "\n",
       "    .dataframe tbody tr th {\n",
       "        vertical-align: top;\n",
       "    }\n",
       "\n",
       "    .dataframe thead th {\n",
       "        text-align: right;\n",
       "    }\n",
       "</style>\n",
       "<table border=\"1\" class=\"dataframe\">\n",
       "  <thead>\n",
       "    <tr style=\"text-align: right;\">\n",
       "      <th></th>\n",
       "      <th>people_fully_vaccinated</th>\n",
       "    </tr>\n",
       "  </thead>\n",
       "  <tbody>\n",
       "    <tr>\n",
       "      <th>20</th>\n",
       "      <td>11.0</td>\n",
       "    </tr>\n",
       "    <tr>\n",
       "      <th>21</th>\n",
       "      <td>377.0</td>\n",
       "    </tr>\n",
       "    <tr>\n",
       "      <th>22</th>\n",
       "      <td>1268.0</td>\n",
       "    </tr>\n",
       "    <tr>\n",
       "      <th>23</th>\n",
       "      <td>2735.0</td>\n",
       "    </tr>\n",
       "    <tr>\n",
       "      <th>24</th>\n",
       "      <td>4049.0</td>\n",
       "    </tr>\n",
       "    <tr>\n",
       "      <th>...</th>\n",
       "      <td>...</td>\n",
       "    </tr>\n",
       "    <tr>\n",
       "      <th>187</th>\n",
       "      <td>3286985.0</td>\n",
       "    </tr>\n",
       "    <tr>\n",
       "      <th>188</th>\n",
       "      <td>3337033.0</td>\n",
       "    </tr>\n",
       "    <tr>\n",
       "      <th>189</th>\n",
       "      <td>3363244.0</td>\n",
       "    </tr>\n",
       "    <tr>\n",
       "      <th>190</th>\n",
       "      <td>3394460.0</td>\n",
       "    </tr>\n",
       "    <tr>\n",
       "      <th>191</th>\n",
       "      <td>3448649.0</td>\n",
       "    </tr>\n",
       "  </tbody>\n",
       "</table>\n",
       "<p>172 rows × 1 columns</p>\n",
       "</div>"
      ]
     },
     "metadata": {},
     "execution_count": 45
    }
   ],
   "metadata": {}
  },
  {
   "cell_type": "code",
   "execution_count": 46,
   "source": [
    "plt.plot(de_df)\r\n",
    "plt.show()"
   ],
   "outputs": [
    {
     "output_type": "display_data",
     "data": {
      "text/plain": [
       "<Figure size 432x288 with 1 Axes>"
      ],
      "image/png": "[encoded data removed]"
     },
     "metadata": {
      "needs_background": "light"
     }
    }
   ],
   "metadata": {}
  },
  {
   "cell_type": "code",
   "execution_count": 47,
   "source": [
    "from statsmodels.tsa.arima_model import ARIMA\r\n",
    "import pmdarima as pm\r\n",
    "\r\n",
    "model = pm.auto_arima(de_df, start_p=1, start_q=1,\r\n",
    "test='adf', # use adftest to find optimal 'd'\r\n",
    "max_p=3, max_q=3, # maximum p and q\r\n",
    "m=1, # frequency of series\r\n",
    "d=None, # let model determine 'd'\r\n",
    "seasonal=False, # No Seasonality\r\n",
    "start_P=0,\r\n",
    "D=0,\r\n",
    "trace=True,\r\n",
    "error_action='ignore',\r\n",
    "suppress_warnings=True,\r\n",
    "stepwise=True)\r\n",
    "print(model.summary())"
   ],
   "outputs": [
    {
     "output_type": "stream",
     "name": "stdout",
     "text": [
      "Performing stepwise search to minimize aic\n",
      " ARIMA(1,2,1)(0,0,0)[0] intercept   : AIC=3639.037, Time=0.34 sec\n",
      " ARIMA(0,2,0)(0,0,0)[0] intercept   : AIC=3661.699, Time=0.01 sec\n",
      " ARIMA(1,2,0)(0,0,0)[0] intercept   : AIC=3656.619, Time=0.02 sec\n",
      " ARIMA(0,2,1)(0,0,0)[0] intercept   : AIC=3654.500, Time=0.05 sec\n",
      " ARIMA(0,2,0)(0,0,0)[0]             : AIC=3659.842, Time=0.01 sec\n",
      " ARIMA(2,2,1)(0,0,0)[0] intercept   : AIC=3587.476, Time=0.27 sec\n",
      " ARIMA(2,2,0)(0,0,0)[0] intercept   : AIC=3647.512, Time=0.06 sec\n",
      " ARIMA(3,2,1)(0,0,0)[0] intercept   : AIC=3561.689, Time=0.24 sec\n",
      " ARIMA(3,2,0)(0,0,0)[0] intercept   : AIC=3611.285, Time=0.12 sec\n",
      " ARIMA(3,2,2)(0,0,0)[0] intercept   : AIC=3529.811, Time=1.08 sec\n",
      " ARIMA(2,2,2)(0,0,0)[0] intercept   : AIC=3548.767, Time=0.67 sec\n",
      " ARIMA(3,2,3)(0,0,0)[0] intercept   : AIC=3528.787, Time=1.17 sec\n",
      " ARIMA(2,2,3)(0,0,0)[0] intercept   : AIC=3540.039, Time=1.17 sec\n",
      " ARIMA(3,2,3)(0,0,0)[0]             : AIC=3516.755, Time=1.03 sec\n",
      " ARIMA(2,2,3)(0,0,0)[0]             : AIC=3518.191, Time=0.50 sec\n",
      " ARIMA(3,2,2)(0,0,0)[0]             : AIC=3520.399, Time=0.56 sec\n",
      " ARIMA(2,2,2)(0,0,0)[0]             : AIC=3536.243, Time=0.29 sec\n",
      "\n",
      "Best model:  ARIMA(3,2,3)(0,0,0)[0]          \n",
      "Total fit time: 7.632 seconds\n",
      "                               SARIMAX Results                                \n",
      "==============================================================================\n",
      "Dep. Variable:                      y   No. Observations:                  172\n",
      "Model:               SARIMAX(3, 2, 3)   Log Likelihood               -1751.377\n",
      "Date:                Sun, 11 Jul 2021   AIC                           3516.755\n",
      "Time:                        19:39:44   BIC                           3538.705\n",
      "Sample:                             0   HQIC                          3525.662\n",
      "                                - 172                                         \n",
      "Covariance Type:                  opg                                         \n",
      "==============================================================================\n",
      "                 coef    std err          z      P>|z|      [0.025      0.975]\n",
      "------------------------------------------------------------------------------\n",
      "ar.L1          1.2967      0.196      6.607      0.000       0.912       1.681\n",
      "ar.L2         -1.0596      0.245     -4.334      0.000      -1.539      -0.580\n",
      "ar.L3          0.0483      0.194      0.249      0.803      -0.331       0.428\n",
      "ma.L1         -1.7368      0.159    -10.930      0.000      -2.048      -1.425\n",
      "ma.L2          1.4520      0.212      6.837      0.000       1.036       1.868\n",
      "ma.L3         -0.4891      0.127     -3.839      0.000      -0.739      -0.239\n",
      "sigma2      6.624e+07   6.02e-09    1.1e+16      0.000    6.62e+07    6.62e+07\n",
      "===================================================================================\n",
      "Ljung-Box (L1) (Q):                   0.20   Jarque-Bera (JB):                66.37\n",
      "Prob(Q):                              0.65   Prob(JB):                         0.00\n",
      "Heteroskedasticity (H):              10.16   Skew:                             0.04\n",
      "Prob(H) (two-sided):                  0.00   Kurtosis:                         6.06\n",
      "===================================================================================\n",
      "\n",
      "Warnings:\n",
      "[1] Covariance matrix calculated using the outer product of gradients (complex-step).\n",
      "[2] Covariance matrix is singular or near-singular, with condition number 1.14e+32. Standard errors may be unstable.\n"
     ]
    }
   ],
   "metadata": {}
  },
  {
   "cell_type": "code",
   "execution_count": null,
   "source": [
    "n_periods = 100\r\n",
    "fc, confint = model.predict(n_periods=n_periods, return_conf_int=True)\r\n",
    "index_of_fc = np.arange(len(de_df), len(de_df)+n_periods)\r\n",
    "\r\n",
    "# make series for plotting purpose\r\n",
    "fc_series = pd.Series(fc, index=index_of_fc)\r\n",
    "lower_series = pd.Series(confint[:, 0], index=index_of_fc)\r\n",
    "upper_series = pd.Series(confint[:, 1], index=index_of_fc)\r\n",
    "\r\n",
    "# Plot\r\n",
    "plt.plot(de_df)\r\n",
    "plt.plot(fc_series, color='darkgreen')\r\n",
    "plt.fill_between(lower_series.index,\r\n",
    "lower_series,\r\n",
    "upper_series,\r\n",
    "color='k', alpha=.15)\r\n",
    "plt.title(\"Forecast of Vaccination Rate\")\r\n",
    "plt.show()"
   ],
   "outputs": [
    {
     "output_type": "display_data",
     "data": {
      "text/plain": [
       "<Figure size 432x288 with 1 Axes>"
      ],
      "image/png": "[encoded data removed]"
     },
     "metadata": {
      "needs_background": "light"
     }
    }
   ],
   "metadata": {}
  },
  {
   "cell_type": "code",
   "execution_count": 55,
   "source": [
    "def forecasting(country_code):\r\n",
    "    dataframe = vaccinations_df[vaccinations_df[\"iso_code\"] == country_code]\r\n",
    "    fully_vaccinated = dataframe[\"people_fully_vaccinated\"]\r\n",
    "    # fully_vaccinated = fully_vaccinated.dropna()\r\n",
    "\r\n",
    "    fully_vaccinated = fully_vaccinated.reset_index()\r\n",
    "    fully_vaccinated = fully_vaccinated.drop(columns=[\"index\"])\r\n",
    "    fully_vaccinated.index = vaccinations_df[vaccinations_df[\"iso_code\"] == country_code][\"date\"]\r\n",
    "    fully_vaccinated = fully_vaccinated.dropna()\r\n",
    "\r\n",
    "    \r\n",
    "\r\n",
    "    model = pm.auto_arima(fully_vaccinated, start_p=1, start_q=1,\r\n",
    "    test='adf', # use adftest to find optimal 'd'\r\n",
    "    max_p=3, max_q=3, # maximum p and q\r\n",
    "    m=1, # frequency of series\r\n",
    "    d=None, # let model determine 'd'\r\n",
    "    seasonal=False, # No Seasonality\r\n",
    "    start_P=0,\r\n",
    "    D=0,\r\n",
    "    trace=True,\r\n",
    "    error_action='ignore',\r\n",
    "    suppress_warnings=True,\r\n",
    "    stepwise=True)\r\n",
    "    #print(model.summary())\r\n",
    "\r\n",
    "    n_periods = 30\r\n",
    "    fc, confint = model.predict(n_periods=n_periods, return_conf_int=True)\r\n",
    "    index_of_fc = np.arange(len(fully_vaccinated), len(fully_vaccinated)+n_periods)\r\n",
    "\r\n",
    "    # make series for plotting purpose\r\n",
    "    fc_series = pd.Series(fc, index=index_of_fc)\r\n",
    "    lower_series = pd.Series(confint[:, 0], index=index_of_fc)\r\n",
    "    upper_series = pd.Series(confint[:, 1], index=index_of_fc)\r\n",
    "\r\n",
    "    # Plot\r\n",
    "    plt.plot(fully_vaccinated)\r\n",
    "    plt.plot(fc_series, color='darkgreen')\r\n",
    "    plt.fill_between(lower_series.index,\r\n",
    "    lower_series,\r\n",
    "    upper_series,\r\n",
    "    color='k', alpha=.15)\r\n",
    "    plt.title(\"Forecast of Vaccination Rate\")\r\n",
    "    plt.show()"
   ],
   "outputs": [],
   "metadata": {}
  },
  {
   "cell_type": "code",
   "execution_count": 58,
   "source": [
    "countries = vaccinations_df[\"iso_code\"].unique()\r\n",
    "countries"
   ],
   "outputs": [
    {
     "output_type": "execute_result",
     "data": {
      "text/plain": [
       "array(['AUT', 'BEL', 'BGR', 'HRV', 'CYP', 'CZE', 'DNK', 'EST', 'FIN',\n",
       "       'FRA', 'DEU', 'GRC', 'HUN', 'ISL', 'IRL', 'ITA', 'LVA', 'LIE',\n",
       "       'LTU', 'LUX', 'MLT', 'NLD', 'NOR', 'POL', 'PRT', 'ROU', 'SVK',\n",
       "       'SVN', 'ESP', 'SWE'], dtype=object)"
      ]
     },
     "metadata": {},
     "execution_count": 58
    }
   ],
   "metadata": {}
  },
  {
   "cell_type": "code",
   "execution_count": 57,
   "source": [
    "for i in range(4):\r\n",
    "    forecasting(countries[i])"
   ],
   "outputs": [
    {
     "output_type": "stream",
     "name": "stdout",
     "text": [
      "Performing stepwise search to minimize aic\n",
      " ARIMA(1,2,1)(0,0,0)[0] intercept   : AIC=4223.330, Time=0.16 sec\n",
      " ARIMA(0,2,0)(0,0,0)[0] intercept   : AIC=4262.199, Time=0.01 sec\n",
      " ARIMA(1,2,0)(0,0,0)[0] intercept   : AIC=4262.417, Time=0.01 sec\n",
      " ARIMA(0,2,1)(0,0,0)[0] intercept   : AIC=4257.670, Time=0.01 sec\n",
      " ARIMA(0,2,0)(0,0,0)[0]             : AIC=4260.261, Time=0.02 sec\n",
      " ARIMA(2,2,1)(0,0,0)[0] intercept   : AIC=4217.008, Time=0.09 sec\n",
      " ARIMA(2,2,0)(0,0,0)[0] intercept   : AIC=4262.632, Time=0.01 sec\n",
      " ARIMA(3,2,1)(0,0,0)[0] intercept   : AIC=4191.614, Time=0.07 sec\n",
      " ARIMA(3,2,0)(0,0,0)[0] intercept   : AIC=4235.039, Time=0.04 sec\n",
      " ARIMA(3,2,2)(0,0,0)[0] intercept   : AIC=4169.139, Time=0.24 sec\n",
      " ARIMA(2,2,2)(0,0,0)[0] intercept   : AIC=4233.630, Time=0.13 sec\n",
      " ARIMA(3,2,3)(0,0,0)[0] intercept   : AIC=4167.617, Time=0.36 sec\n",
      " ARIMA(2,2,3)(0,0,0)[0] intercept   : AIC=4204.177, Time=0.12 sec\n",
      " ARIMA(3,2,3)(0,0,0)[0]             : AIC=4162.531, Time=0.28 sec\n",
      " ARIMA(2,2,3)(0,0,0)[0]             : AIC=4202.116, Time=0.16 sec\n",
      " ARIMA(3,2,2)(0,0,0)[0]             : AIC=4165.082, Time=0.24 sec\n",
      " ARIMA(2,2,2)(0,0,0)[0]             : AIC=4222.867, Time=0.08 sec\n",
      "\n",
      "Best model:  ARIMA(3,2,3)(0,0,0)[0]          \n",
      "Total fit time: 2.040 seconds\n"
     ]
    },
    {
     "output_type": "display_data",
     "data": {
      "text/plain": [
       "<Figure size 432x288 with 1 Axes>"
      ],
      "image/png": "[encoded data removed]"
     },
     "metadata": {
      "needs_background": "light"
     }
    }
   ],
   "metadata": {}
  }
 ],
 "metadata": {
  "orig_nbformat": 4,
  "language_info": {
   "name": "python"
  }
 },
 "nbformat": 4,
 "nbformat_minor": 2
}