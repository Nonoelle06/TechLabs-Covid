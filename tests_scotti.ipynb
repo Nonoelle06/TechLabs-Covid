{
 "metadata": {
  "language_info": {
   "codemirror_mode": {
    "name": "ipython",
    "version": 3
   },
   "file_extension": ".py",
   "mimetype": "text/x-python",
   "name": "python",
   "nbconvert_exporter": "python",
   "pygments_lexer": "ipython3",
   "version": "3.9.4"
  },
  "orig_nbformat": 2,
  "kernelspec": {
   "name": "python394jvsc74a57bd0683b2bfffa77c69086b4bf7e9115c8c2d5dab6c8ad511760e860f6a3d9265adc",
   "display_name": "Python 3.9.4 64-bit"
  }
 },
 "nbformat": 4,
 "nbformat_minor": 2,
 "cells": [
  {
   "cell_type": "code",
   "execution_count": 2,
   "metadata": {},
   "outputs": [
    {
     "output_type": "stream",
     "name": "stdout",
     "text": [
      "['AT', 'BE', 'BG', 'CY', 'CZ', 'DE', 'DK', 'EE', 'EL', 'ES', 'FI', 'FR', 'HR', 'HU', 'IE', 'IS', 'IT', 'LI', 'LT', 'LU', 'LV', 'MT', 'NL', 'NO', 'PL', 'PT', 'RO', 'SE', 'SI', 'SK']\n['AT', 'BE', 'BG', 'CY', 'CZ', 'DE', 'DK', 'EE', 'EL', 'ES', 'FI', 'FR', 'HR', 'HU', 'IE', 'IS', 'IT', 'LI', 'LT', 'LU', 'LV', 'MT', 'NL', 'NO', 'PL', 'PT', 'RO', 'SE', 'SI', 'SK']\n['AT', 'BE', 'BG', 'CY', 'CZ', 'DE', 'DK', 'EE', 'EL', 'ES', 'FI', 'FR', 'HR', 'HU', 'IE', 'IS', 'IT', 'LI', 'LT', 'LU', 'LV', 'MT', 'NL', 'NO', 'PL', 'PT', 'RO', 'SE', 'SI', 'SK']\n"
     ]
    }
   ],
   "source": [
    "import numpy as np\n",
    "import pandas as pd\n",
    "\n",
    "df_vaccination = pd.read_csv(\"vaccination/vaccination in the EU.csv\")\n",
    "df_cases = pd.read_csv(\"cases_deaths/daily number of new reported.csv\")\n",
    "df_variants = pd.read_csv(\"variants/variants in the EU.csv\")\n",
    "\n",
    "vac_count = sorted(df_vaccination[\"ReportingCountry\"].unique())\n",
    "cases_count = sorted(df_cases[\"geoId\"].unique())\n",
    "var_country_count = sorted(df_variants[\"country_code\"].unique())\n",
    "\n",
    "print(vac_count)\n",
    "print(cases_count)\n",
    "print(var_country_count)"
   ]
  },
  {
   "cell_type": "code",
   "execution_count": 3,
   "metadata": {},
   "outputs": [
    {
     "output_type": "execute_result",
     "data": {
      "text/plain": [
       "      dateRep  day  month  year  cases  deaths countriesAndTerritories geoId  \\\n",
       "0  29/04/2021   29      4  2021   2286      29                 Austria    AT   \n",
       "1  28/04/2021   28      4  2021   1557      20                 Austria    AT   \n",
       "2  27/04/2021   27      4  2021   1380      22                 Austria    AT   \n",
       "3  26/04/2021   26      4  2021   2091      11                 Austria    AT   \n",
       "4  25/04/2021   25      4  2021   2231      15                 Austria    AT   \n",
       "\n",
       "  countryterritoryCode  popData2020 continentExp  \n",
       "0                  AUT      8901064       Europe  \n",
       "1                  AUT      8901064       Europe  \n",
       "2                  AUT      8901064       Europe  \n",
       "3                  AUT      8901064       Europe  \n",
       "4                  AUT      8901064       Europe  "
      ],
      "text/html": "<div>\n<style scoped>\n    .dataframe tbody tr th:only-of-type {\n        vertical-align: middle;\n    }\n\n    .dataframe tbody tr th {\n        vertical-align: top;\n    }\n\n    .dataframe thead th {\n        text-align: right;\n    }\n</style>\n<table border=\"1\" class=\"dataframe\">\n  <thead>\n    <tr style=\"text-align: right;\">\n      <th></th>\n      <th>dateRep</th>\n      <th>day</th>\n      <th>month</th>\n      <th>year</th>\n      <th>cases</th>\n      <th>deaths</th>\n      <th>countriesAndTerritories</th>\n      <th>geoId</th>\n      <th>countryterritoryCode</th>\n      <th>popData2020</th>\n      <th>continentExp</th>\n    </tr>\n  </thead>\n  <tbody>\n    <tr>\n      <th>0</th>\n      <td>29/04/2021</td>\n      <td>29</td>\n      <td>4</td>\n      <td>2021</td>\n      <td>2286</td>\n      <td>29</td>\n      <td>Austria</td>\n      <td>AT</td>\n      <td>AUT</td>\n      <td>8901064</td>\n      <td>Europe</td>\n    </tr>\n    <tr>\n      <th>1</th>\n      <td>28/04/2021</td>\n      <td>28</td>\n      <td>4</td>\n      <td>2021</td>\n      <td>1557</td>\n      <td>20</td>\n      <td>Austria</td>\n      <td>AT</td>\n      <td>AUT</td>\n      <td>8901064</td>\n      <td>Europe</td>\n    </tr>\n    <tr>\n      <th>2</th>\n      <td>27/04/2021</td>\n      <td>27</td>\n      <td>4</td>\n      <td>2021</td>\n      <td>1380</td>\n      <td>22</td>\n      <td>Austria</td>\n      <td>AT</td>\n      <td>AUT</td>\n      <td>8901064</td>\n      <td>Europe</td>\n    </tr>\n    <tr>\n      <th>3</th>\n      <td>26/04/2021</td>\n      <td>26</td>\n      <td>4</td>\n      <td>2021</td>\n      <td>2091</td>\n      <td>11</td>\n      <td>Austria</td>\n      <td>AT</td>\n      <td>AUT</td>\n      <td>8901064</td>\n      <td>Europe</td>\n    </tr>\n    <tr>\n      <th>4</th>\n      <td>25/04/2021</td>\n      <td>25</td>\n      <td>4</td>\n      <td>2021</td>\n      <td>2231</td>\n      <td>15</td>\n      <td>Austria</td>\n      <td>AT</td>\n      <td>AUT</td>\n      <td>8901064</td>\n      <td>Europe</td>\n    </tr>\n  </tbody>\n</table>\n</div>"
     },
     "metadata": {},
     "execution_count": 3
    }
   ],
   "source": [
    "df_vaccination.head()\n",
    "df_variants.head()\n",
    "df_cases.head()"
   ]
  },
  {
   "cell_type": "code",
   "execution_count": 4,
   "metadata": {},
   "outputs": [
    {
     "output_type": "execute_result",
     "data": {
      "text/plain": [
       "        dateRep  day  month  year    cases  deaths countriesAndTerritories  \\\n",
       "600  29/04/2021   29      4  2021    24736     264                 Germany   \n",
       "601  28/04/2021   28      4  2021    22231     312                 Germany   \n",
       "602  27/04/2021   27      4  2021    10976     344                 Germany   \n",
       "603  26/04/2021   26      4  2021    11907      60                 Germany   \n",
       "604  25/04/2021   25      4  2021    18773     120                 Germany   \n",
       "605  24/04/2021   24      4  2021    23392     286                 Germany   \n",
       "606  23/04/2021   23      4  2021    27543     265                 Germany   \n",
       "607  22/04/2021   22      4  2021    29518     259                 Germany   \n",
       "608  21/04/2021   21      4  2021    24884     331                 Germany   \n",
       "609  20/04/2021   20      4  2021     9609     297                 Germany   \n",
       "610  19/04/2021   19      4  2021    11437      92                 Germany   \n",
       "611  18/04/2021   18      4  2021    19185      67                 Germany   \n",
       "612  17/04/2021   17      4  2021    23804     219                 Germany   \n",
       "613  16/04/2021   16      4  2021    25831     247                 Germany   \n",
       "614  15/04/2021   15      4  2021    29426     293                 Germany   \n",
       "615  14/04/2021   14      4  2021    21693     342                 Germany   \n",
       "616  13/04/2021   13      4  2021    10810     294                 Germany   \n",
       "617  12/04/2021   12      4  2021    13245      99                 Germany   \n",
       "618  11/04/2021   11      4  2021    17855     104                 Germany   \n",
       "619  10/04/2021   10      4  2021    24097     246                 Germany   \n",
       "620  09/04/2021    9      4  2021    25464     296                 Germany   \n",
       "621  08/04/2021    8      4  2021    20407     306                 Germany   \n",
       "622  07/04/2021    7      4  2021     9677     298                 Germany   \n",
       "623  06/04/2021    6      4  2021     6885      90                 Germany   \n",
       "624  05/04/2021    5      4  2021     8497      50                 Germany   \n",
       "625  04/04/2021    4      4  2021    12196      68                 Germany   \n",
       "626  03/04/2021    3      4  2021    18129     120                 Germany   \n",
       "627  02/04/2021    2      4  2021    21888     232                 Germany   \n",
       "628  01/04/2021    1      4  2021    24300     201                 Germany   \n",
       "629  31/03/2021   31      3  2021    17051     249                 Germany   \n",
       "630  30/03/2021   30      3  2021     9549     180                 Germany   \n",
       "631  29/03/2021   29      3  2021     9872      43                 Germany   \n",
       "632  28/03/2021   28      3  2021    17176      90                 Germany   \n",
       "633  27/03/2021   27      3  2021    20472     157                 Germany   \n",
       "634  26/03/2021   26      3  2021    21573     183                 Germany   \n",
       "635  25/03/2021   25      3  2021    22657     228                 Germany   \n",
       "636  24/03/2021   24      3  2021    15813     248                 Germany   \n",
       "637  23/03/2021   23      3  2021     7485     250                 Germany   \n",
       "638  22/03/2021   22      3  2021     7709      50                 Germany   \n",
       "639  21/03/2021   21      3  2021    13733      99                 Germany   \n",
       "640  20/03/2021   20      3  2021    16033     207                 Germany   \n",
       "641  19/03/2021   19      3  2021    17482     226                 Germany   \n",
       "642  18/03/2021   18      3  2021    17504     227                 Germany   \n",
       "643  17/03/2021   17      3  2021    13435     249                 Germany   \n",
       "644  16/03/2021   16      3  2021     5480     238                 Germany   \n",
       "645  15/03/2021   15      3  2021     6604      47                 Germany   \n",
       "646  14/03/2021   14      3  2021    10790      70                 Germany   \n",
       "647  13/03/2021   13      3  2021    12674     239                 Germany   \n",
       "648  12/03/2021   12      3  2021    12834     252                 Germany   \n",
       "649  11/03/2021   11      3  2021    14356     321                 Germany   \n",
       "650  10/03/2021   10      3  2021     9146     300                 Germany   \n",
       "651  09/03/2021    9      3  2021     4252     255                 Germany   \n",
       "652  08/03/2021    8      3  2021     5011      34                 Germany   \n",
       "653  07/03/2021    7      3  2021     8103      96                 Germany   \n",
       "654  06/03/2021    6      3  2021     9557     300                 Germany   \n",
       "655  05/03/2021    5      3  2021    10580     264                 Germany   \n",
       "656  04/03/2021    4      3  2021    11912     359                 Germany   \n",
       "657  03/03/2021    3      3  2021     9019     418                 Germany   \n",
       "658  02/03/2021    2      3  2021     3943     358                 Germany   \n",
       "659  01/03/2021    1      3  2021  2447068   70105                 Germany   \n",
       "\n",
       "    geoId countryterritoryCode  popData2020 continentExp  \n",
       "600    DE                  DEU     83166711       Europe  \n",
       "601    DE                  DEU     83166711       Europe  \n",
       "602    DE                  DEU     83166711       Europe  \n",
       "603    DE                  DEU     83166711       Europe  \n",
       "604    DE                  DEU     83166711       Europe  \n",
       "605    DE                  DEU     83166711       Europe  \n",
       "606    DE                  DEU     83166711       Europe  \n",
       "607    DE                  DEU     83166711       Europe  \n",
       "608    DE                  DEU     83166711       Europe  \n",
       "609    DE                  DEU     83166711       Europe  \n",
       "610    DE                  DEU     83166711       Europe  \n",
       "611    DE                  DEU     83166711       Europe  \n",
       "612    DE                  DEU     83166711       Europe  \n",
       "613    DE                  DEU     83166711       Europe  \n",
       "614    DE                  DEU     83166711       Europe  \n",
       "615    DE                  DEU     83166711       Europe  \n",
       "616    DE                  DEU     83166711       Europe  \n",
       "617    DE                  DEU     83166711       Europe  \n",
       "618    DE                  DEU     83166711       Europe  \n",
       "619    DE                  DEU     83166711       Europe  \n",
       "620    DE                  DEU     83166711       Europe  \n",
       "621    DE                  DEU     83166711       Europe  \n",
       "622    DE                  DEU     83166711       Europe  \n",
       "623    DE                  DEU     83166711       Europe  \n",
       "624    DE                  DEU     83166711       Europe  \n",
       "625    DE                  DEU     83166711       Europe  \n",
       "626    DE                  DEU     83166711       Europe  \n",
       "627    DE                  DEU     83166711       Europe  \n",
       "628    DE                  DEU     83166711       Europe  \n",
       "629    DE                  DEU     83166711       Europe  \n",
       "630    DE                  DEU     83166711       Europe  \n",
       "631    DE                  DEU     83166711       Europe  \n",
       "632    DE                  DEU     83166711       Europe  \n",
       "633    DE                  DEU     83166711       Europe  \n",
       "634    DE                  DEU     83166711       Europe  \n",
       "635    DE                  DEU     83166711       Europe  \n",
       "636    DE                  DEU     83166711       Europe  \n",
       "637    DE                  DEU     83166711       Europe  \n",
       "638    DE                  DEU     83166711       Europe  \n",
       "639    DE                  DEU     83166711       Europe  \n",
       "640    DE                  DEU     83166711       Europe  \n",
       "641    DE                  DEU     83166711       Europe  \n",
       "642    DE                  DEU     83166711       Europe  \n",
       "643    DE                  DEU     83166711       Europe  \n",
       "644    DE                  DEU     83166711       Europe  \n",
       "645    DE                  DEU     83166711       Europe  \n",
       "646    DE                  DEU     83166711       Europe  \n",
       "647    DE                  DEU     83166711       Europe  \n",
       "648    DE                  DEU     83166711       Europe  \n",
       "649    DE                  DEU     83166711       Europe  \n",
       "650    DE                  DEU     83166711       Europe  \n",
       "651    DE                  DEU     83166711       Europe  \n",
       "652    DE                  DEU     83166711       Europe  \n",
       "653    DE                  DEU     83166711       Europe  \n",
       "654    DE                  DEU     83166711       Europe  \n",
       "655    DE                  DEU     83166711       Europe  \n",
       "656    DE                  DEU     83166711       Europe  \n",
       "657    DE                  DEU     83166711       Europe  \n",
       "658    DE                  DEU     83166711       Europe  \n",
       "659    DE                  DEU     83166711       Europe  "
      ],
      "text/html": "<div>\n<style scoped>\n    .dataframe tbody tr th:only-of-type {\n        vertical-align: middle;\n    }\n\n    .dataframe tbody tr th {\n        vertical-align: top;\n    }\n\n    .dataframe thead th {\n        text-align: right;\n    }\n</style>\n<table border=\"1\" class=\"dataframe\">\n  <thead>\n    <tr style=\"text-align: right;\">\n      <th></th>\n      <th>dateRep</th>\n      <th>day</th>\n      <th>month</th>\n      <th>year</th>\n      <th>cases</th>\n      <th>deaths</th>\n      <th>countriesAndTerritories</th>\n      <th>geoId</th>\n      <th>countryterritoryCode</th>\n      <th>popData2020</th>\n      <th>continentExp</th>\n    </tr>\n  </thead>\n  <tbody>\n    <tr>\n      <th>600</th>\n      <td>29/04/2021</td>\n      <td>29</td>\n      <td>4</td>\n      <td>2021</td>\n      <td>24736</td>\n      <td>264</td>\n      <td>Germany</td>\n      <td>DE</td>\n      <td>DEU</td>\n      <td>83166711</td>\n      <td>Europe</td>\n    </tr>\n    <tr>\n      <th>601</th>\n      <td>28/04/2021</td>\n      <td>28</td>\n      <td>4</td>\n      <td>2021</td>\n      <td>22231</td>\n      <td>312</td>\n      <td>Germany</td>\n      <td>DE</td>\n      <td>DEU</td>\n      <td>83166711</td>\n      <td>Europe</td>\n    </tr>\n    <tr>\n      <th>602</th>\n      <td>27/04/2021</td>\n      <td>27</td>\n      <td>4</td>\n      <td>2021</td>\n      <td>10976</td>\n      <td>344</td>\n      <td>Germany</td>\n      <td>DE</td>\n      <td>DEU</td>\n      <td>83166711</td>\n      <td>Europe</td>\n    </tr>\n    <tr>\n      <th>603</th>\n      <td>26/04/2021</td>\n      <td>26</td>\n      <td>4</td>\n      <td>2021</td>\n      <td>11907</td>\n      <td>60</td>\n      <td>Germany</td>\n      <td>DE</td>\n      <td>DEU</td>\n      <td>83166711</td>\n      <td>Europe</td>\n    </tr>\n    <tr>\n      <th>604</th>\n      <td>25/04/2021</td>\n      <td>25</td>\n      <td>4</td>\n      <td>2021</td>\n      <td>18773</td>\n      <td>120</td>\n      <td>Germany</td>\n      <td>DE</td>\n      <td>DEU</td>\n      <td>83166711</td>\n      <td>Europe</td>\n    </tr>\n    <tr>\n      <th>605</th>\n      <td>24/04/2021</td>\n      <td>24</td>\n      <td>4</td>\n      <td>2021</td>\n      <td>23392</td>\n      <td>286</td>\n      <td>Germany</td>\n      <td>DE</td>\n      <td>DEU</td>\n      <td>83166711</td>\n      <td>Europe</td>\n    </tr>\n    <tr>\n      <th>606</th>\n      <td>23/04/2021</td>\n      <td>23</td>\n      <td>4</td>\n      <td>2021</td>\n      <td>27543</td>\n      <td>265</td>\n      <td>Germany</td>\n      <td>DE</td>\n      <td>DEU</td>\n      <td>83166711</td>\n      <td>Europe</td>\n    </tr>\n    <tr>\n      <th>607</th>\n      <td>22/04/2021</td>\n      <td>22</td>\n      <td>4</td>\n      <td>2021</td>\n      <td>29518</td>\n      <td>259</td>\n      <td>Germany</td>\n      <td>DE</td>\n      <td>DEU</td>\n      <td>83166711</td>\n      <td>Europe</td>\n    </tr>\n    <tr>\n      <th>608</th>\n      <td>21/04/2021</td>\n      <td>21</td>\n      <td>4</td>\n      <td>2021</td>\n      <td>24884</td>\n      <td>331</td>\n      <td>Germany</td>\n      <td>DE</td>\n      <td>DEU</td>\n      <td>83166711</td>\n      <td>Europe</td>\n    </tr>\n    <tr>\n      <th>609</th>\n      <td>20/04/2021</td>\n      <td>20</td>\n      <td>4</td>\n      <td>2021</td>\n      <td>9609</td>\n      <td>297</td>\n      <td>Germany</td>\n      <td>DE</td>\n      <td>DEU</td>\n      <td>83166711</td>\n      <td>Europe</td>\n    </tr>\n    <tr>\n      <th>610</th>\n      <td>19/04/2021</td>\n      <td>19</td>\n      <td>4</td>\n      <td>2021</td>\n      <td>11437</td>\n      <td>92</td>\n      <td>Germany</td>\n      <td>DE</td>\n      <td>DEU</td>\n      <td>83166711</td>\n      <td>Europe</td>\n    </tr>\n    <tr>\n      <th>611</th>\n      <td>18/04/2021</td>\n      <td>18</td>\n      <td>4</td>\n      <td>2021</td>\n      <td>19185</td>\n      <td>67</td>\n      <td>Germany</td>\n      <td>DE</td>\n      <td>DEU</td>\n      <td>83166711</td>\n      <td>Europe</td>\n    </tr>\n    <tr>\n      <th>612</th>\n      <td>17/04/2021</td>\n      <td>17</td>\n      <td>4</td>\n      <td>2021</td>\n      <td>23804</td>\n      <td>219</td>\n      <td>Germany</td>\n      <td>DE</td>\n      <td>DEU</td>\n      <td>83166711</td>\n      <td>Europe</td>\n    </tr>\n    <tr>\n      <th>613</th>\n      <td>16/04/2021</td>\n      <td>16</td>\n      <td>4</td>\n      <td>2021</td>\n      <td>25831</td>\n      <td>247</td>\n      <td>Germany</td>\n      <td>DE</td>\n      <td>DEU</td>\n      <td>83166711</td>\n      <td>Europe</td>\n    </tr>\n    <tr>\n      <th>614</th>\n      <td>15/04/2021</td>\n      <td>15</td>\n      <td>4</td>\n      <td>2021</td>\n      <td>29426</td>\n      <td>293</td>\n      <td>Germany</td>\n      <td>DE</td>\n      <td>DEU</td>\n      <td>83166711</td>\n      <td>Europe</td>\n    </tr>\n    <tr>\n      <th>615</th>\n      <td>14/04/2021</td>\n      <td>14</td>\n      <td>4</td>\n      <td>2021</td>\n      <td>21693</td>\n      <td>342</td>\n      <td>Germany</td>\n      <td>DE</td>\n      <td>DEU</td>\n      <td>83166711</td>\n      <td>Europe</td>\n    </tr>\n    <tr>\n      <th>616</th>\n      <td>13/04/2021</td>\n      <td>13</td>\n      <td>4</td>\n      <td>2021</td>\n      <td>10810</td>\n      <td>294</td>\n      <td>Germany</td>\n      <td>DE</td>\n      <td>DEU</td>\n      <td>83166711</td>\n      <td>Europe</td>\n    </tr>\n    <tr>\n      <th>617</th>\n      <td>12/04/2021</td>\n      <td>12</td>\n      <td>4</td>\n      <td>2021</td>\n      <td>13245</td>\n      <td>99</td>\n      <td>Germany</td>\n      <td>DE</td>\n      <td>DEU</td>\n      <td>83166711</td>\n      <td>Europe</td>\n    </tr>\n    <tr>\n      <th>618</th>\n      <td>11/04/2021</td>\n      <td>11</td>\n      <td>4</td>\n      <td>2021</td>\n      <td>17855</td>\n      <td>104</td>\n      <td>Germany</td>\n      <td>DE</td>\n      <td>DEU</td>\n      <td>83166711</td>\n      <td>Europe</td>\n    </tr>\n    <tr>\n      <th>619</th>\n      <td>10/04/2021</td>\n      <td>10</td>\n      <td>4</td>\n      <td>2021</td>\n      <td>24097</td>\n      <td>246</td>\n      <td>Germany</td>\n      <td>DE</td>\n      <td>DEU</td>\n      <td>83166711</td>\n      <td>Europe</td>\n    </tr>\n    <tr>\n      <th>620</th>\n      <td>09/04/2021</td>\n      <td>9</td>\n      <td>4</td>\n      <td>2021</td>\n      <td>25464</td>\n      <td>296</td>\n      <td>Germany</td>\n      <td>DE</td>\n      <td>DEU</td>\n      <td>83166711</td>\n      <td>Europe</td>\n    </tr>\n    <tr>\n      <th>621</th>\n      <td>08/04/2021</td>\n      <td>8</td>\n      <td>4</td>\n      <td>2021</td>\n      <td>20407</td>\n      <td>306</td>\n      <td>Germany</td>\n      <td>DE</td>\n      <td>DEU</td>\n      <td>83166711</td>\n      <td>Europe</td>\n    </tr>\n    <tr>\n      <th>622</th>\n      <td>07/04/2021</td>\n      <td>7</td>\n      <td>4</td>\n      <td>2021</td>\n      <td>9677</td>\n      <td>298</td>\n      <td>Germany</td>\n      <td>DE</td>\n      <td>DEU</td>\n      <td>83166711</td>\n      <td>Europe</td>\n    </tr>\n    <tr>\n      <th>623</th>\n      <td>06/04/2021</td>\n      <td>6</td>\n      <td>4</td>\n      <td>2021</td>\n      <td>6885</td>\n      <td>90</td>\n      <td>Germany</td>\n      <td>DE</td>\n      <td>DEU</td>\n      <td>83166711</td>\n      <td>Europe</td>\n    </tr>\n    <tr>\n      <th>624</th>\n      <td>05/04/2021</td>\n      <td>5</td>\n      <td>4</td>\n      <td>2021</td>\n      <td>8497</td>\n      <td>50</td>\n      <td>Germany</td>\n      <td>DE</td>\n      <td>DEU</td>\n      <td>83166711</td>\n      <td>Europe</td>\n    </tr>\n    <tr>\n      <th>625</th>\n      <td>04/04/2021</td>\n      <td>4</td>\n      <td>4</td>\n      <td>2021</td>\n      <td>12196</td>\n      <td>68</td>\n      <td>Germany</td>\n      <td>DE</td>\n      <td>DEU</td>\n      <td>83166711</td>\n      <td>Europe</td>\n    </tr>\n    <tr>\n      <th>626</th>\n      <td>03/04/2021</td>\n      <td>3</td>\n      <td>4</td>\n      <td>2021</td>\n      <td>18129</td>\n      <td>120</td>\n      <td>Germany</td>\n      <td>DE</td>\n      <td>DEU</td>\n      <td>83166711</td>\n      <td>Europe</td>\n    </tr>\n    <tr>\n      <th>627</th>\n      <td>02/04/2021</td>\n      <td>2</td>\n      <td>4</td>\n      <td>2021</td>\n      <td>21888</td>\n      <td>232</td>\n      <td>Germany</td>\n      <td>DE</td>\n      <td>DEU</td>\n      <td>83166711</td>\n      <td>Europe</td>\n    </tr>\n    <tr>\n      <th>628</th>\n      <td>01/04/2021</td>\n      <td>1</td>\n      <td>4</td>\n      <td>2021</td>\n      <td>24300</td>\n      <td>201</td>\n      <td>Germany</td>\n      <td>DE</td>\n      <td>DEU</td>\n      <td>83166711</td>\n      <td>Europe</td>\n    </tr>\n    <tr>\n      <th>629</th>\n      <td>31/03/2021</td>\n      <td>31</td>\n      <td>3</td>\n      <td>2021</td>\n      <td>17051</td>\n      <td>249</td>\n      <td>Germany</td>\n      <td>DE</td>\n      <td>DEU</td>\n      <td>83166711</td>\n      <td>Europe</td>\n    </tr>\n    <tr>\n      <th>630</th>\n      <td>30/03/2021</td>\n      <td>30</td>\n      <td>3</td>\n      <td>2021</td>\n      <td>9549</td>\n      <td>180</td>\n      <td>Germany</td>\n      <td>DE</td>\n      <td>DEU</td>\n      <td>83166711</td>\n      <td>Europe</td>\n    </tr>\n    <tr>\n      <th>631</th>\n      <td>29/03/2021</td>\n      <td>29</td>\n      <td>3</td>\n      <td>2021</td>\n      <td>9872</td>\n      <td>43</td>\n      <td>Germany</td>\n      <td>DE</td>\n      <td>DEU</td>\n      <td>83166711</td>\n      <td>Europe</td>\n    </tr>\n    <tr>\n      <th>632</th>\n      <td>28/03/2021</td>\n      <td>28</td>\n      <td>3</td>\n      <td>2021</td>\n      <td>17176</td>\n      <td>90</td>\n      <td>Germany</td>\n      <td>DE</td>\n      <td>DEU</td>\n      <td>83166711</td>\n      <td>Europe</td>\n    </tr>\n    <tr>\n      <th>633</th>\n      <td>27/03/2021</td>\n      <td>27</td>\n      <td>3</td>\n      <td>2021</td>\n      <td>20472</td>\n      <td>157</td>\n      <td>Germany</td>\n      <td>DE</td>\n      <td>DEU</td>\n      <td>83166711</td>\n      <td>Europe</td>\n    </tr>\n    <tr>\n      <th>634</th>\n      <td>26/03/2021</td>\n      <td>26</td>\n      <td>3</td>\n      <td>2021</td>\n      <td>21573</td>\n      <td>183</td>\n      <td>Germany</td>\n      <td>DE</td>\n      <td>DEU</td>\n      <td>83166711</td>\n      <td>Europe</td>\n    </tr>\n    <tr>\n      <th>635</th>\n      <td>25/03/2021</td>\n      <td>25</td>\n      <td>3</td>\n      <td>2021</td>\n      <td>22657</td>\n      <td>228</td>\n      <td>Germany</td>\n      <td>DE</td>\n      <td>DEU</td>\n      <td>83166711</td>\n      <td>Europe</td>\n    </tr>\n    <tr>\n      <th>636</th>\n      <td>24/03/2021</td>\n      <td>24</td>\n      <td>3</td>\n      <td>2021</td>\n      <td>15813</td>\n      <td>248</td>\n      <td>Germany</td>\n      <td>DE</td>\n      <td>DEU</td>\n      <td>83166711</td>\n      <td>Europe</td>\n    </tr>\n    <tr>\n      <th>637</th>\n      <td>23/03/2021</td>\n      <td>23</td>\n      <td>3</td>\n      <td>2021</td>\n      <td>7485</td>\n      <td>250</td>\n      <td>Germany</td>\n      <td>DE</td>\n      <td>DEU</td>\n      <td>83166711</td>\n      <td>Europe</td>\n    </tr>\n    <tr>\n      <th>638</th>\n      <td>22/03/2021</td>\n      <td>22</td>\n      <td>3</td>\n      <td>2021</td>\n      <td>7709</td>\n      <td>50</td>\n      <td>Germany</td>\n      <td>DE</td>\n      <td>DEU</td>\n      <td>83166711</td>\n      <td>Europe</td>\n    </tr>\n    <tr>\n      <th>639</th>\n      <td>21/03/2021</td>\n      <td>21</td>\n      <td>3</td>\n      <td>2021</td>\n      <td>13733</td>\n      <td>99</td>\n      <td>Germany</td>\n      <td>DE</td>\n      <td>DEU</td>\n      <td>83166711</td>\n      <td>Europe</td>\n    </tr>\n    <tr>\n      <th>640</th>\n      <td>20/03/2021</td>\n      <td>20</td>\n      <td>3</td>\n      <td>2021</td>\n      <td>16033</td>\n      <td>207</td>\n      <td>Germany</td>\n      <td>DE</td>\n      <td>DEU</td>\n      <td>83166711</td>\n      <td>Europe</td>\n    </tr>\n    <tr>\n      <th>641</th>\n      <td>19/03/2021</td>\n      <td>19</td>\n      <td>3</td>\n      <td>2021</td>\n      <td>17482</td>\n      <td>226</td>\n      <td>Germany</td>\n      <td>DE</td>\n      <td>DEU</td>\n      <td>83166711</td>\n      <td>Europe</td>\n    </tr>\n    <tr>\n      <th>642</th>\n      <td>18/03/2021</td>\n      <td>18</td>\n      <td>3</td>\n      <td>2021</td>\n      <td>17504</td>\n      <td>227</td>\n      <td>Germany</td>\n      <td>DE</td>\n      <td>DEU</td>\n      <td>83166711</td>\n      <td>Europe</td>\n    </tr>\n    <tr>\n      <th>643</th>\n      <td>17/03/2021</td>\n      <td>17</td>\n      <td>3</td>\n      <td>2021</td>\n      <td>13435</td>\n      <td>249</td>\n      <td>Germany</td>\n      <td>DE</td>\n      <td>DEU</td>\n      <td>83166711</td>\n      <td>Europe</td>\n    </tr>\n    <tr>\n      <th>644</th>\n      <td>16/03/2021</td>\n      <td>16</td>\n      <td>3</td>\n      <td>2021</td>\n      <td>5480</td>\n      <td>238</td>\n      <td>Germany</td>\n      <td>DE</td>\n      <td>DEU</td>\n      <td>83166711</td>\n      <td>Europe</td>\n    </tr>\n    <tr>\n      <th>645</th>\n      <td>15/03/2021</td>\n      <td>15</td>\n      <td>3</td>\n      <td>2021</td>\n      <td>6604</td>\n      <td>47</td>\n      <td>Germany</td>\n      <td>DE</td>\n      <td>DEU</td>\n      <td>83166711</td>\n      <td>Europe</td>\n    </tr>\n    <tr>\n      <th>646</th>\n      <td>14/03/2021</td>\n      <td>14</td>\n      <td>3</td>\n      <td>2021</td>\n      <td>10790</td>\n      <td>70</td>\n      <td>Germany</td>\n      <td>DE</td>\n      <td>DEU</td>\n      <td>83166711</td>\n      <td>Europe</td>\n    </tr>\n    <tr>\n      <th>647</th>\n      <td>13/03/2021</td>\n      <td>13</td>\n      <td>3</td>\n      <td>2021</td>\n      <td>12674</td>\n      <td>239</td>\n      <td>Germany</td>\n      <td>DE</td>\n      <td>DEU</td>\n      <td>83166711</td>\n      <td>Europe</td>\n    </tr>\n    <tr>\n      <th>648</th>\n      <td>12/03/2021</td>\n      <td>12</td>\n      <td>3</td>\n      <td>2021</td>\n      <td>12834</td>\n      <td>252</td>\n      <td>Germany</td>\n      <td>DE</td>\n      <td>DEU</td>\n      <td>83166711</td>\n      <td>Europe</td>\n    </tr>\n    <tr>\n      <th>649</th>\n      <td>11/03/2021</td>\n      <td>11</td>\n      <td>3</td>\n      <td>2021</td>\n      <td>14356</td>\n      <td>321</td>\n      <td>Germany</td>\n      <td>DE</td>\n      <td>DEU</td>\n      <td>83166711</td>\n      <td>Europe</td>\n    </tr>\n    <tr>\n      <th>650</th>\n      <td>10/03/2021</td>\n      <td>10</td>\n      <td>3</td>\n      <td>2021</td>\n      <td>9146</td>\n      <td>300</td>\n      <td>Germany</td>\n      <td>DE</td>\n      <td>DEU</td>\n      <td>83166711</td>\n      <td>Europe</td>\n    </tr>\n    <tr>\n      <th>651</th>\n      <td>09/03/2021</td>\n      <td>9</td>\n      <td>3</td>\n      <td>2021</td>\n      <td>4252</td>\n      <td>255</td>\n      <td>Germany</td>\n      <td>DE</td>\n      <td>DEU</td>\n      <td>83166711</td>\n      <td>Europe</td>\n    </tr>\n    <tr>\n      <th>652</th>\n      <td>08/03/2021</td>\n      <td>8</td>\n      <td>3</td>\n      <td>2021</td>\n      <td>5011</td>\n      <td>34</td>\n      <td>Germany</td>\n      <td>DE</td>\n      <td>DEU</td>\n      <td>83166711</td>\n      <td>Europe</td>\n    </tr>\n    <tr>\n      <th>653</th>\n      <td>07/03/2021</td>\n      <td>7</td>\n      <td>3</td>\n      <td>2021</td>\n      <td>8103</td>\n      <td>96</td>\n      <td>Germany</td>\n      <td>DE</td>\n      <td>DEU</td>\n      <td>83166711</td>\n      <td>Europe</td>\n    </tr>\n    <tr>\n      <th>654</th>\n      <td>06/03/2021</td>\n      <td>6</td>\n      <td>3</td>\n      <td>2021</td>\n      <td>9557</td>\n      <td>300</td>\n      <td>Germany</td>\n      <td>DE</td>\n      <td>DEU</td>\n      <td>83166711</td>\n      <td>Europe</td>\n    </tr>\n    <tr>\n      <th>655</th>\n      <td>05/03/2021</td>\n      <td>5</td>\n      <td>3</td>\n      <td>2021</td>\n      <td>10580</td>\n      <td>264</td>\n      <td>Germany</td>\n      <td>DE</td>\n      <td>DEU</td>\n      <td>83166711</td>\n      <td>Europe</td>\n    </tr>\n    <tr>\n      <th>656</th>\n      <td>04/03/2021</td>\n      <td>4</td>\n      <td>3</td>\n      <td>2021</td>\n      <td>11912</td>\n      <td>359</td>\n      <td>Germany</td>\n      <td>DE</td>\n      <td>DEU</td>\n      <td>83166711</td>\n      <td>Europe</td>\n    </tr>\n    <tr>\n      <th>657</th>\n      <td>03/03/2021</td>\n      <td>3</td>\n      <td>3</td>\n      <td>2021</td>\n      <td>9019</td>\n      <td>418</td>\n      <td>Germany</td>\n      <td>DE</td>\n      <td>DEU</td>\n      <td>83166711</td>\n      <td>Europe</td>\n    </tr>\n    <tr>\n      <th>658</th>\n      <td>02/03/2021</td>\n      <td>2</td>\n      <td>3</td>\n      <td>2021</td>\n      <td>3943</td>\n      <td>358</td>\n      <td>Germany</td>\n      <td>DE</td>\n      <td>DEU</td>\n      <td>83166711</td>\n      <td>Europe</td>\n    </tr>\n    <tr>\n      <th>659</th>\n      <td>01/03/2021</td>\n      <td>1</td>\n      <td>3</td>\n      <td>2021</td>\n      <td>2447068</td>\n      <td>70105</td>\n      <td>Germany</td>\n      <td>DE</td>\n      <td>DEU</td>\n      <td>83166711</td>\n      <td>Europe</td>\n    </tr>\n  </tbody>\n</table>\n</div>"
     },
     "metadata": {},
     "execution_count": 4
    }
   ],
   "source": [
    "df_cases[df_cases[\"geoId\"] == \"DE\"]"
   ]
  },
  {
   "cell_type": "code",
   "execution_count": 5,
   "metadata": {},
   "outputs": [
    {
     "output_type": "execute_result",
     "data": {
      "text/plain": [
       "     YearWeekISO  FirstDose  FirstDoseRefused  SecondDose  UnknownDose  \\\n",
       "2343    2020-W53     275874               NaN        1010            0   \n",
       "\n",
       "      NumberDosesReceived Region  Population ReportingCountry TargetGroup  \\\n",
       "2343            1174875.0     DE    83166711               DE         ALL   \n",
       "\n",
       "     Vaccine  Denominator  \n",
       "2343     COM   69488809.0  "
      ],
      "text/html": "<div>\n<style scoped>\n    .dataframe tbody tr th:only-of-type {\n        vertical-align: middle;\n    }\n\n    .dataframe tbody tr th {\n        vertical-align: top;\n    }\n\n    .dataframe thead th {\n        text-align: right;\n    }\n</style>\n<table border=\"1\" class=\"dataframe\">\n  <thead>\n    <tr style=\"text-align: right;\">\n      <th></th>\n      <th>YearWeekISO</th>\n      <th>FirstDose</th>\n      <th>FirstDoseRefused</th>\n      <th>SecondDose</th>\n      <th>UnknownDose</th>\n      <th>NumberDosesReceived</th>\n      <th>Region</th>\n      <th>Population</th>\n      <th>ReportingCountry</th>\n      <th>TargetGroup</th>\n      <th>Vaccine</th>\n      <th>Denominator</th>\n    </tr>\n  </thead>\n  <tbody>\n    <tr>\n      <th>2343</th>\n      <td>2020-W53</td>\n      <td>275874</td>\n      <td>NaN</td>\n      <td>1010</td>\n      <td>0</td>\n      <td>1174875.0</td>\n      <td>DE</td>\n      <td>83166711</td>\n      <td>DE</td>\n      <td>ALL</td>\n      <td>COM</td>\n      <td>69488809.0</td>\n    </tr>\n  </tbody>\n</table>\n</div>"
     },
     "metadata": {},
     "execution_count": 5
    }
   ],
   "source": [
    "df_vaccination[(df_vaccination[\"YearWeekISO\"] == \"2020-W53\") & (df_vaccination[\"ReportingCountry\"] == \"DE\")]"
   ]
  },
  {
   "cell_type": "code",
   "execution_count": 7,
   "metadata": {},
   "outputs": [
    {
     "output_type": "stream",
     "name": "stdout",
     "text": [
      "['BG' 'CY' 'CZ' 'DE' 'EE' 'EL' 'FI' 'FR' 'HR' 'HU' 'IE' 'IT' 'LT' 'LU'\n 'LV' 'MT' 'NL' 'NO' 'PL' 'PT' 'SE' 'SI' 'SK' 'AT' 'BE' 'DK' 'ES' 'IS'\n 'RO' 'LI']\n"
     ]
    },
    {
     "output_type": "execute_result",
     "data": {
      "text/plain": [
       "            ReportingCountry  NumberDosesReceived\n",
       "YearWeekISO                                      \n",
       "2021-W10                  AT            3476790.0\n",
       "2021-W10                  BE             240600.0\n",
       "2021-W10                  BG             129060.0\n",
       "2021-W10                  CY              32130.0\n",
       "2021-W10                  CZ             313000.0\n",
       "2021-W10                  DE            2043420.0\n",
       "2021-W10                  DK             163830.0\n",
       "2021-W10                  EE              54840.0\n",
       "2021-W10                  EL            3277890.0\n",
       "2021-W10                  ES            1578490.0\n",
       "2021-W10                  FI             164580.0\n",
       "2021-W10                  FR            2230800.0\n",
       "2021-W10                  HR             112200.0\n",
       "2021-W10                  HU             175710.0\n",
       "2021-W10                  IE             144840.0\n",
       "2021-W10                  IS              59800.0\n",
       "2021-W10                  IT            1684710.0\n",
       "2021-W10                  LI                  0.0\n",
       "2021-W10                  LT             169014.0\n",
       "2021-W10                  LU              22620.0\n",
       "2021-W10                  LV              32370.0\n",
       "2021-W10                  MT                  0.0\n",
       "2021-W10                  NL             305190.0\n",
       "2021-W10                  NO             123150.0\n",
       "2021-W10                  PL             874470.0\n",
       "2021-W10                  PT             282540.0\n",
       "2021-W10                  RO             434640.0\n",
       "2021-W10                  SE             261010.0\n",
       "2021-W10                  SI              46290.0\n",
       "2021-W10                  SK             227130.0"
      ],
      "text/html": "<div>\n<style scoped>\n    .dataframe tbody tr th:only-of-type {\n        vertical-align: middle;\n    }\n\n    .dataframe tbody tr th {\n        vertical-align: top;\n    }\n\n    .dataframe thead th {\n        text-align: right;\n    }\n</style>\n<table border=\"1\" class=\"dataframe\">\n  <thead>\n    <tr style=\"text-align: right;\">\n      <th></th>\n      <th>ReportingCountry</th>\n      <th>NumberDosesReceived</th>\n    </tr>\n    <tr>\n      <th>YearWeekISO</th>\n      <th></th>\n      <th></th>\n    </tr>\n  </thead>\n  <tbody>\n    <tr>\n      <th>2021-W10</th>\n      <td>AT</td>\n      <td>3476790.0</td>\n    </tr>\n    <tr>\n      <th>2021-W10</th>\n      <td>BE</td>\n      <td>240600.0</td>\n    </tr>\n    <tr>\n      <th>2021-W10</th>\n      <td>BG</td>\n      <td>129060.0</td>\n    </tr>\n    <tr>\n      <th>2021-W10</th>\n      <td>CY</td>\n      <td>32130.0</td>\n    </tr>\n    <tr>\n      <th>2021-W10</th>\n      <td>CZ</td>\n      <td>313000.0</td>\n    </tr>\n    <tr>\n      <th>2021-W10</th>\n      <td>DE</td>\n      <td>2043420.0</td>\n    </tr>\n    <tr>\n      <th>2021-W10</th>\n      <td>DK</td>\n      <td>163830.0</td>\n    </tr>\n    <tr>\n      <th>2021-W10</th>\n      <td>EE</td>\n      <td>54840.0</td>\n    </tr>\n    <tr>\n      <th>2021-W10</th>\n      <td>EL</td>\n      <td>3277890.0</td>\n    </tr>\n    <tr>\n      <th>2021-W10</th>\n      <td>ES</td>\n      <td>1578490.0</td>\n    </tr>\n    <tr>\n      <th>2021-W10</th>\n      <td>FI</td>\n      <td>164580.0</td>\n    </tr>\n    <tr>\n      <th>2021-W10</th>\n      <td>FR</td>\n      <td>2230800.0</td>\n    </tr>\n    <tr>\n      <th>2021-W10</th>\n      <td>HR</td>\n      <td>112200.0</td>\n    </tr>\n    <tr>\n      <th>2021-W10</th>\n      <td>HU</td>\n      <td>175710.0</td>\n    </tr>\n    <tr>\n      <th>2021-W10</th>\n      <td>IE</td>\n      <td>144840.0</td>\n    </tr>\n    <tr>\n      <th>2021-W10</th>\n      <td>IS</td>\n      <td>59800.0</td>\n    </tr>\n    <tr>\n      <th>2021-W10</th>\n      <td>IT</td>\n      <td>1684710.0</td>\n    </tr>\n    <tr>\n      <th>2021-W10</th>\n      <td>LI</td>\n      <td>0.0</td>\n    </tr>\n    <tr>\n      <th>2021-W10</th>\n      <td>LT</td>\n      <td>169014.0</td>\n    </tr>\n    <tr>\n      <th>2021-W10</th>\n      <td>LU</td>\n      <td>22620.0</td>\n    </tr>\n    <tr>\n      <th>2021-W10</th>\n      <td>LV</td>\n      <td>32370.0</td>\n    </tr>\n    <tr>\n      <th>2021-W10</th>\n      <td>MT</td>\n      <td>0.0</td>\n    </tr>\n    <tr>\n      <th>2021-W10</th>\n      <td>NL</td>\n      <td>305190.0</td>\n    </tr>\n    <tr>\n      <th>2021-W10</th>\n      <td>NO</td>\n      <td>123150.0</td>\n    </tr>\n    <tr>\n      <th>2021-W10</th>\n      <td>PL</td>\n      <td>874470.0</td>\n    </tr>\n    <tr>\n      <th>2021-W10</th>\n      <td>PT</td>\n      <td>282540.0</td>\n    </tr>\n    <tr>\n      <th>2021-W10</th>\n      <td>RO</td>\n      <td>434640.0</td>\n    </tr>\n    <tr>\n      <th>2021-W10</th>\n      <td>SE</td>\n      <td>261010.0</td>\n    </tr>\n    <tr>\n      <th>2021-W10</th>\n      <td>SI</td>\n      <td>46290.0</td>\n    </tr>\n    <tr>\n      <th>2021-W10</th>\n      <td>SK</td>\n      <td>227130.0</td>\n    </tr>\n  </tbody>\n</table>\n</div>"
     },
     "metadata": {},
     "execution_count": 7
    }
   ],
   "source": [
    "vac_weekly = df_vaccination[[\"YearWeekISO\", \"ReportingCountry\", \"NumberDosesReceived\"]].groupby(by=[\"YearWeekISO\", \"ReportingCountry\"]).sum()\n",
    "vac_weekly.reset_index(level=\"ReportingCountry\", inplace=True)\n",
    "print(vac_weekly[\"ReportingCountry\"].unique())\n",
    "\n",
    "vac_weekly[vac_weekly.index == \"2021-W10\"]"
   ]
  },
  {
   "cell_type": "code",
   "execution_count": null,
   "metadata": {},
   "outputs": [],
   "source": []
  }
 ]
}