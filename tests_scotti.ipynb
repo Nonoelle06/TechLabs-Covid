{
 "metadata": {
  "language_info": {
   "codemirror_mode": {
    "name": "ipython",
    "version": 3
   },
   "file_extension": ".py",
   "mimetype": "text/x-python",
   "name": "python",
   "nbconvert_exporter": "python",
   "pygments_lexer": "ipython3",
   "version": "3.9.4"
  },
  "orig_nbformat": 2,
  "kernelspec": {
   "name": "python394jvsc74a57bd0683b2bfffa77c69086b4bf7e9115c8c2d5dab6c8ad511760e860f6a3d9265adc",
   "display_name": "Python 3.9.4 64-bit"
  }
 },
 "nbformat": 4,
 "nbformat_minor": 2,
 "cells": [
  {
   "cell_type": "code",
   "execution_count": 76,
   "metadata": {},
   "outputs": [
    {
     "output_type": "stream",
     "name": "stdout",
     "text": [
      "['AUT', 'BEL', 'BGR', 'CYP', 'CZE', 'DEU', 'DNK', 'ESP', 'EST', 'FIN', 'FRA', 'GRC', 'HRV', 'HUN', 'IRL', 'ISL', 'ITA', 'LIE', 'LTU', 'LUX', 'LVA', 'MLT', 'NLD', 'NOR', 'POL', 'PRT', 'ROU', 'SVK', 'SVN', 'SWE']\n"
     ]
    }
   ],
   "source": [
    "import numpy as np\n",
    "import pandas as pd\n",
    "\n",
    "# European Files\n",
    "df_cases = pd.read_csv(\"cases_deaths/May_daily_number_of.csv\")\n",
    "df_variants = pd.read_csv(\"variants/variants in the EU.csv\")\n",
    "\n",
    "# Unique country values (3stellige ISO)\n",
    "cases_countries = sorted(df_cases[\"countryterritoryCode\"].unique())\n",
    "var_country_count = sorted(df_variants[\"country_code\"].unique())\n",
    "\n",
    "# Print all countries\n",
    "print(cases_countries)"
   ]
  },
  {
   "cell_type": "code",
   "execution_count": 77,
   "metadata": {},
   "outputs": [
    {
     "output_type": "execute_result",
     "data": {
      "text/plain": [
       "       country iso_code        date  total_vaccinations  people_vaccinated  \\\n",
       "0  Afghanistan      AFG  2021-02-22                 0.0                0.0   \n",
       "1  Afghanistan      AFG  2021-02-23                 NaN                NaN   \n",
       "2  Afghanistan      AFG  2021-02-24                 NaN                NaN   \n",
       "3  Afghanistan      AFG  2021-02-25                 NaN                NaN   \n",
       "4  Afghanistan      AFG  2021-02-26                 NaN                NaN   \n",
       "\n",
       "   people_fully_vaccinated  daily_vaccinations_raw  daily_vaccinations  \\\n",
       "0                      NaN                     NaN                 NaN   \n",
       "1                      NaN                     NaN              1367.0   \n",
       "2                      NaN                     NaN              1367.0   \n",
       "3                      NaN                     NaN              1367.0   \n",
       "4                      NaN                     NaN              1367.0   \n",
       "\n",
       "   total_vaccinations_per_hundred  people_vaccinated_per_hundred  \\\n",
       "0                             0.0                            0.0   \n",
       "1                             NaN                            NaN   \n",
       "2                             NaN                            NaN   \n",
       "3                             NaN                            NaN   \n",
       "4                             NaN                            NaN   \n",
       "\n",
       "   people_fully_vaccinated_per_hundred  daily_vaccinations_per_million  \\\n",
       "0                                  NaN                             NaN   \n",
       "1                                  NaN                            35.0   \n",
       "2                                  NaN                            35.0   \n",
       "3                                  NaN                            35.0   \n",
       "4                                  NaN                            35.0   \n",
       "\n",
       "             vaccines                source_name  \\\n",
       "0  Oxford/AstraZeneca  Government of Afghanistan   \n",
       "1  Oxford/AstraZeneca  Government of Afghanistan   \n",
       "2  Oxford/AstraZeneca  Government of Afghanistan   \n",
       "3  Oxford/AstraZeneca  Government of Afghanistan   \n",
       "4  Oxford/AstraZeneca  Government of Afghanistan   \n",
       "\n",
       "                                      source_website  \n",
       "0  https://reliefweb.int/report/afghanistan/afgha...  \n",
       "1  https://reliefweb.int/report/afghanistan/afgha...  \n",
       "2  https://reliefweb.int/report/afghanistan/afgha...  \n",
       "3  https://reliefweb.int/report/afghanistan/afgha...  \n",
       "4  https://reliefweb.int/report/afghanistan/afgha...  "
      ],
      "text/html": "<div>\n<style scoped>\n    .dataframe tbody tr th:only-of-type {\n        vertical-align: middle;\n    }\n\n    .dataframe tbody tr th {\n        vertical-align: top;\n    }\n\n    .dataframe thead th {\n        text-align: right;\n    }\n</style>\n<table border=\"1\" class=\"dataframe\">\n  <thead>\n    <tr style=\"text-align: right;\">\n      <th></th>\n      <th>country</th>\n      <th>iso_code</th>\n      <th>date</th>\n      <th>total_vaccinations</th>\n      <th>people_vaccinated</th>\n      <th>people_fully_vaccinated</th>\n      <th>daily_vaccinations_raw</th>\n      <th>daily_vaccinations</th>\n      <th>total_vaccinations_per_hundred</th>\n      <th>people_vaccinated_per_hundred</th>\n      <th>people_fully_vaccinated_per_hundred</th>\n      <th>daily_vaccinations_per_million</th>\n      <th>vaccines</th>\n      <th>source_name</th>\n      <th>source_website</th>\n    </tr>\n  </thead>\n  <tbody>\n    <tr>\n      <th>0</th>\n      <td>Afghanistan</td>\n      <td>AFG</td>\n      <td>2021-02-22</td>\n      <td>0.0</td>\n      <td>0.0</td>\n      <td>NaN</td>\n      <td>NaN</td>\n      <td>NaN</td>\n      <td>0.0</td>\n      <td>0.0</td>\n      <td>NaN</td>\n      <td>NaN</td>\n      <td>Oxford/AstraZeneca</td>\n      <td>Government of Afghanistan</td>\n      <td>https://reliefweb.int/report/afghanistan/afgha...</td>\n    </tr>\n    <tr>\n      <th>1</th>\n      <td>Afghanistan</td>\n      <td>AFG</td>\n      <td>2021-02-23</td>\n      <td>NaN</td>\n      <td>NaN</td>\n      <td>NaN</td>\n      <td>NaN</td>\n      <td>1367.0</td>\n      <td>NaN</td>\n      <td>NaN</td>\n      <td>NaN</td>\n      <td>35.0</td>\n      <td>Oxford/AstraZeneca</td>\n      <td>Government of Afghanistan</td>\n      <td>https://reliefweb.int/report/afghanistan/afgha...</td>\n    </tr>\n    <tr>\n      <th>2</th>\n      <td>Afghanistan</td>\n      <td>AFG</td>\n      <td>2021-02-24</td>\n      <td>NaN</td>\n      <td>NaN</td>\n      <td>NaN</td>\n      <td>NaN</td>\n      <td>1367.0</td>\n      <td>NaN</td>\n      <td>NaN</td>\n      <td>NaN</td>\n      <td>35.0</td>\n      <td>Oxford/AstraZeneca</td>\n      <td>Government of Afghanistan</td>\n      <td>https://reliefweb.int/report/afghanistan/afgha...</td>\n    </tr>\n    <tr>\n      <th>3</th>\n      <td>Afghanistan</td>\n      <td>AFG</td>\n      <td>2021-02-25</td>\n      <td>NaN</td>\n      <td>NaN</td>\n      <td>NaN</td>\n      <td>NaN</td>\n      <td>1367.0</td>\n      <td>NaN</td>\n      <td>NaN</td>\n      <td>NaN</td>\n      <td>35.0</td>\n      <td>Oxford/AstraZeneca</td>\n      <td>Government of Afghanistan</td>\n      <td>https://reliefweb.int/report/afghanistan/afgha...</td>\n    </tr>\n    <tr>\n      <th>4</th>\n      <td>Afghanistan</td>\n      <td>AFG</td>\n      <td>2021-02-26</td>\n      <td>NaN</td>\n      <td>NaN</td>\n      <td>NaN</td>\n      <td>NaN</td>\n      <td>1367.0</td>\n      <td>NaN</td>\n      <td>NaN</td>\n      <td>NaN</td>\n      <td>35.0</td>\n      <td>Oxford/AstraZeneca</td>\n      <td>Government of Afghanistan</td>\n      <td>https://reliefweb.int/report/afghanistan/afgha...</td>\n    </tr>\n  </tbody>\n</table>\n</div>"
     },
     "metadata": {},
     "execution_count": 77
    }
   ],
   "source": [
    "# Load and show Kaggle dataset \n",
    "df_vacc = pd.read_csv(\"kaggle/country_vaccinations.csv\")\n",
    "df_vacc.head()"
   ]
  },
  {
   "cell_type": "code",
   "execution_count": 78,
   "metadata": {},
   "outputs": [
    {
     "output_type": "execute_result",
     "data": {
      "text/plain": [
       "array(['AUT', 'BEL', 'BGR', 'HRV', 'CYP', 'CZE', 'DNK', 'EST', 'FIN',\n",
       "       'FRA', 'DEU', 'GRC', 'HUN', 'ISL', 'IRL', 'ITA', 'LVA', 'LIE',\n",
       "       'LTU', 'LUX', 'MLT', 'NLD', 'NOR', 'POL', 'PRT', 'ROU', 'SVK',\n",
       "       'SVN', 'ESP', 'SWE'], dtype=object)"
      ]
     },
     "metadata": {},
     "execution_count": 78
    }
   ],
   "source": [
    "# Filter from Kaggel vacc only the 30 European Countries and print unique values\n",
    "df_europ_vacc = df_vacc[df_vacc[\"iso_code\"].isin(cases_countries)]\n",
    "df_europ_vacc[\"iso_code\"].unique()\n",
    "# 30 -> should be right "
   ]
  },
  {
   "cell_type": "code",
   "execution_count": 82,
   "metadata": {},
   "outputs": [
    {
     "output_type": "execute_result",
     "data": {
      "text/plain": [
       "      country iso_code        date  total_vaccinations  people_vaccinated  \\\n",
       "0     Austria      AUT  2020-12-27               732.0              732.0   \n",
       "1     Austria      AUT  2020-12-28              2032.0             2032.0   \n",
       "2     Austria      AUT  2020-12-29              3653.0             3653.0   \n",
       "3     Austria      AUT  2020-12-30              5005.0             5005.0   \n",
       "4     Austria      AUT  2020-12-31              5013.0             5013.0   \n",
       "...       ...      ...         ...                 ...                ...   \n",
       "3748   Sweden      SWE  2021-04-30           3266894.0          2511121.0   \n",
       "3749   Sweden      SWE  2021-05-01                 NaN                NaN   \n",
       "3750   Sweden      SWE  2021-05-02                 NaN                NaN   \n",
       "3751   Sweden      SWE  2021-05-03                 NaN                NaN   \n",
       "3752   Sweden      SWE  2021-05-04           3451239.0          2681307.0   \n",
       "\n",
       "      people_fully_vaccinated  daily_vaccinations_raw  daily_vaccinations  \\\n",
       "0                         NaN                     NaN                 NaN   \n",
       "1                         NaN                  1300.0              1300.0   \n",
       "2                         NaN                  1621.0              1460.0   \n",
       "3                         NaN                  1352.0              1424.0   \n",
       "4                         NaN                     8.0              1070.0   \n",
       "...                       ...                     ...                 ...   \n",
       "3748                 755773.0                123960.0             59597.0   \n",
       "3749                      NaN                     NaN             60125.0   \n",
       "3750                      NaN                     NaN             60654.0   \n",
       "3751                      NaN                     NaN             61182.0   \n",
       "3752                 769932.0                     NaN             61710.0   \n",
       "\n",
       "      total_vaccinations_per_hundred  people_vaccinated_per_hundred  \\\n",
       "0                               0.01                           0.01   \n",
       "1                               0.02                           0.02   \n",
       "2                               0.04                           0.04   \n",
       "3                               0.06                           0.06   \n",
       "4                               0.06                           0.06   \n",
       "...                              ...                            ...   \n",
       "3748                           32.35                          24.86   \n",
       "3749                             NaN                            NaN   \n",
       "3750                             NaN                            NaN   \n",
       "3751                             NaN                            NaN   \n",
       "3752                           34.17                          26.55   \n",
       "\n",
       "      people_fully_vaccinated_per_hundred  daily_vaccinations_per_million  \\\n",
       "0                                     NaN                             NaN   \n",
       "1                                     NaN                           144.0   \n",
       "2                                     NaN                           162.0   \n",
       "3                                     NaN                           158.0   \n",
       "4                                     NaN                           119.0   \n",
       "...                                   ...                             ...   \n",
       "3748                                 7.48                          5901.0   \n",
       "3749                                  NaN                          5953.0   \n",
       "3750                                  NaN                          6006.0   \n",
       "3751                                  NaN                          6058.0   \n",
       "3752                                 7.62                          6110.0   \n",
       "\n",
       "                                               vaccines  \\\n",
       "0     Johnson&Johnson, Moderna, Oxford/AstraZeneca, ...   \n",
       "1     Johnson&Johnson, Moderna, Oxford/AstraZeneca, ...   \n",
       "2     Johnson&Johnson, Moderna, Oxford/AstraZeneca, ...   \n",
       "3     Johnson&Johnson, Moderna, Oxford/AstraZeneca, ...   \n",
       "4     Johnson&Johnson, Moderna, Oxford/AstraZeneca, ...   \n",
       "...                                                 ...   \n",
       "3748                Oxford/AstraZeneca, Pfizer/BioNTech   \n",
       "3749                Oxford/AstraZeneca, Pfizer/BioNTech   \n",
       "3750                Oxford/AstraZeneca, Pfizer/BioNTech   \n",
       "3751                Oxford/AstraZeneca, Pfizer/BioNTech   \n",
       "3752                Oxford/AstraZeneca, Pfizer/BioNTech   \n",
       "\n",
       "                         source_name  \\\n",
       "0                 Ministry of Health   \n",
       "1                 Ministry of Health   \n",
       "2                 Ministry of Health   \n",
       "3                 Ministry of Health   \n",
       "4                 Ministry of Health   \n",
       "...                              ...   \n",
       "3748  Public Health Agency of Sweden   \n",
       "3749  Public Health Agency of Sweden   \n",
       "3750  Public Health Agency of Sweden   \n",
       "3751  Public Health Agency of Sweden   \n",
       "3752  Public Health Agency of Sweden   \n",
       "\n",
       "                                         source_website  \n",
       "0     https://info.gesundheitsministerium.gv.at/open...  \n",
       "1     https://info.gesundheitsministerium.gv.at/open...  \n",
       "2     https://info.gesundheitsministerium.gv.at/open...  \n",
       "3     https://info.gesundheitsministerium.gv.at/open...  \n",
       "4     https://info.gesundheitsministerium.gv.at/open...  \n",
       "...                                                 ...  \n",
       "3748  https://www.folkhalsomyndigheten.se/smittskydd...  \n",
       "3749  https://www.folkhalsomyndigheten.se/smittskydd...  \n",
       "3750  https://www.folkhalsomyndigheten.se/smittskydd...  \n",
       "3751  https://www.folkhalsomyndigheten.se/smittskydd...  \n",
       "3752  https://www.folkhalsomyndigheten.se/smittskydd...  \n",
       "\n",
       "[3753 rows x 15 columns]"
      ],
      "text/html": "<div>\n<style scoped>\n    .dataframe tbody tr th:only-of-type {\n        vertical-align: middle;\n    }\n\n    .dataframe tbody tr th {\n        vertical-align: top;\n    }\n\n    .dataframe thead th {\n        text-align: right;\n    }\n</style>\n<table border=\"1\" class=\"dataframe\">\n  <thead>\n    <tr style=\"text-align: right;\">\n      <th></th>\n      <th>country</th>\n      <th>iso_code</th>\n      <th>date</th>\n      <th>total_vaccinations</th>\n      <th>people_vaccinated</th>\n      <th>people_fully_vaccinated</th>\n      <th>daily_vaccinations_raw</th>\n      <th>daily_vaccinations</th>\n      <th>total_vaccinations_per_hundred</th>\n      <th>people_vaccinated_per_hundred</th>\n      <th>people_fully_vaccinated_per_hundred</th>\n      <th>daily_vaccinations_per_million</th>\n      <th>vaccines</th>\n      <th>source_name</th>\n      <th>source_website</th>\n    </tr>\n  </thead>\n  <tbody>\n    <tr>\n      <th>0</th>\n      <td>Austria</td>\n      <td>AUT</td>\n      <td>2020-12-27</td>\n      <td>732.0</td>\n      <td>732.0</td>\n      <td>NaN</td>\n      <td>NaN</td>\n      <td>NaN</td>\n      <td>0.01</td>\n      <td>0.01</td>\n      <td>NaN</td>\n      <td>NaN</td>\n      <td>Johnson&amp;Johnson, Moderna, Oxford/AstraZeneca, ...</td>\n      <td>Ministry of Health</td>\n      <td>https://info.gesundheitsministerium.gv.at/open...</td>\n    </tr>\n    <tr>\n      <th>1</th>\n      <td>Austria</td>\n      <td>AUT</td>\n      <td>2020-12-28</td>\n      <td>2032.0</td>\n      <td>2032.0</td>\n      <td>NaN</td>\n      <td>1300.0</td>\n      <td>1300.0</td>\n      <td>0.02</td>\n      <td>0.02</td>\n      <td>NaN</td>\n      <td>144.0</td>\n      <td>Johnson&amp;Johnson, Moderna, Oxford/AstraZeneca, ...</td>\n      <td>Ministry of Health</td>\n      <td>https://info.gesundheitsministerium.gv.at/open...</td>\n    </tr>\n    <tr>\n      <th>2</th>\n      <td>Austria</td>\n      <td>AUT</td>\n      <td>2020-12-29</td>\n      <td>3653.0</td>\n      <td>3653.0</td>\n      <td>NaN</td>\n      <td>1621.0</td>\n      <td>1460.0</td>\n      <td>0.04</td>\n      <td>0.04</td>\n      <td>NaN</td>\n      <td>162.0</td>\n      <td>Johnson&amp;Johnson, Moderna, Oxford/AstraZeneca, ...</td>\n      <td>Ministry of Health</td>\n      <td>https://info.gesundheitsministerium.gv.at/open...</td>\n    </tr>\n    <tr>\n      <th>3</th>\n      <td>Austria</td>\n      <td>AUT</td>\n      <td>2020-12-30</td>\n      <td>5005.0</td>\n      <td>5005.0</td>\n      <td>NaN</td>\n      <td>1352.0</td>\n      <td>1424.0</td>\n      <td>0.06</td>\n      <td>0.06</td>\n      <td>NaN</td>\n      <td>158.0</td>\n      <td>Johnson&amp;Johnson, Moderna, Oxford/AstraZeneca, ...</td>\n      <td>Ministry of Health</td>\n      <td>https://info.gesundheitsministerium.gv.at/open...</td>\n    </tr>\n    <tr>\n      <th>4</th>\n      <td>Austria</td>\n      <td>AUT</td>\n      <td>2020-12-31</td>\n      <td>5013.0</td>\n      <td>5013.0</td>\n      <td>NaN</td>\n      <td>8.0</td>\n      <td>1070.0</td>\n      <td>0.06</td>\n      <td>0.06</td>\n      <td>NaN</td>\n      <td>119.0</td>\n      <td>Johnson&amp;Johnson, Moderna, Oxford/AstraZeneca, ...</td>\n      <td>Ministry of Health</td>\n      <td>https://info.gesundheitsministerium.gv.at/open...</td>\n    </tr>\n    <tr>\n      <th>...</th>\n      <td>...</td>\n      <td>...</td>\n      <td>...</td>\n      <td>...</td>\n      <td>...</td>\n      <td>...</td>\n      <td>...</td>\n      <td>...</td>\n      <td>...</td>\n      <td>...</td>\n      <td>...</td>\n      <td>...</td>\n      <td>...</td>\n      <td>...</td>\n      <td>...</td>\n    </tr>\n    <tr>\n      <th>3748</th>\n      <td>Sweden</td>\n      <td>SWE</td>\n      <td>2021-04-30</td>\n      <td>3266894.0</td>\n      <td>2511121.0</td>\n      <td>755773.0</td>\n      <td>123960.0</td>\n      <td>59597.0</td>\n      <td>32.35</td>\n      <td>24.86</td>\n      <td>7.48</td>\n      <td>5901.0</td>\n      <td>Oxford/AstraZeneca, Pfizer/BioNTech</td>\n      <td>Public Health Agency of Sweden</td>\n      <td>https://www.folkhalsomyndigheten.se/smittskydd...</td>\n    </tr>\n    <tr>\n      <th>3749</th>\n      <td>Sweden</td>\n      <td>SWE</td>\n      <td>2021-05-01</td>\n      <td>NaN</td>\n      <td>NaN</td>\n      <td>NaN</td>\n      <td>NaN</td>\n      <td>60125.0</td>\n      <td>NaN</td>\n      <td>NaN</td>\n      <td>NaN</td>\n      <td>5953.0</td>\n      <td>Oxford/AstraZeneca, Pfizer/BioNTech</td>\n      <td>Public Health Agency of Sweden</td>\n      <td>https://www.folkhalsomyndigheten.se/smittskydd...</td>\n    </tr>\n    <tr>\n      <th>3750</th>\n      <td>Sweden</td>\n      <td>SWE</td>\n      <td>2021-05-02</td>\n      <td>NaN</td>\n      <td>NaN</td>\n      <td>NaN</td>\n      <td>NaN</td>\n      <td>60654.0</td>\n      <td>NaN</td>\n      <td>NaN</td>\n      <td>NaN</td>\n      <td>6006.0</td>\n      <td>Oxford/AstraZeneca, Pfizer/BioNTech</td>\n      <td>Public Health Agency of Sweden</td>\n      <td>https://www.folkhalsomyndigheten.se/smittskydd...</td>\n    </tr>\n    <tr>\n      <th>3751</th>\n      <td>Sweden</td>\n      <td>SWE</td>\n      <td>2021-05-03</td>\n      <td>NaN</td>\n      <td>NaN</td>\n      <td>NaN</td>\n      <td>NaN</td>\n      <td>61182.0</td>\n      <td>NaN</td>\n      <td>NaN</td>\n      <td>NaN</td>\n      <td>6058.0</td>\n      <td>Oxford/AstraZeneca, Pfizer/BioNTech</td>\n      <td>Public Health Agency of Sweden</td>\n      <td>https://www.folkhalsomyndigheten.se/smittskydd...</td>\n    </tr>\n    <tr>\n      <th>3752</th>\n      <td>Sweden</td>\n      <td>SWE</td>\n      <td>2021-05-04</td>\n      <td>3451239.0</td>\n      <td>2681307.0</td>\n      <td>769932.0</td>\n      <td>NaN</td>\n      <td>61710.0</td>\n      <td>34.17</td>\n      <td>26.55</td>\n      <td>7.62</td>\n      <td>6110.0</td>\n      <td>Oxford/AstraZeneca, Pfizer/BioNTech</td>\n      <td>Public Health Agency of Sweden</td>\n      <td>https://www.folkhalsomyndigheten.se/smittskydd...</td>\n    </tr>\n  </tbody>\n</table>\n<p>3753 rows × 15 columns</p>\n</div>"
     },
     "metadata": {},
     "execution_count": 82
    }
   ],
   "source": [
    "# reset index to range from 0 to ... \n",
    "df_europ_vacc.reset_index(drop=True, inplace=True)\n",
    "df_europ_vacc"
   ]
  },
  {
   "cell_type": "code",
   "execution_count": 81,
   "metadata": {},
   "outputs": [
    {
     "output_type": "execute_result",
     "data": {
      "text/plain": [
       "LIE    131\n",
       "SVN    129\n",
       "AUT    129\n",
       "EST    129\n",
       "LTU    129\n",
       "DEU    129\n",
       "ITA    129\n",
       "PRT    129\n",
       "SWE    129\n",
       "CZE    129\n",
       "LVA    128\n",
       "NOR    128\n",
       "FRA    128\n",
       "POL    128\n",
       "GRC    128\n",
       "DNK    128\n",
       "BGR    127\n",
       "ROU    127\n",
       "HUN    127\n",
       "BEL    127\n",
       "FIN    125\n",
       "HRV    125\n",
       "LUX    125\n",
       "ISL    125\n",
       "IRL    123\n",
       "SVK    121\n",
       "ESP    120\n",
       "CYP    108\n",
       "MLT    107\n",
       "NLD    106\n",
       "Name: iso_code, dtype: int64"
      ]
     },
     "metadata": {},
     "execution_count": 81
    }
   ],
   "source": [
    "# how many entries does each country have?\n",
    "df_europ_vacc[\"iso_code\"].value_counts()\n",
    "# doesn't look to bad"
   ]
  },
  {
   "cell_type": "code",
   "execution_count": 89,
   "metadata": {},
   "outputs": [
    {
     "output_type": "stream",
     "name": "stdout",
     "text": [
      "<class 'str'>\n2020-12-27\n"
     ]
    }
   ],
   "source": [
    "# check what the format of the dates is\n",
    "vacc_dates = df_europ_vacc[\"date\"][0]\n",
    "print(type(vacc_dates))\n",
    "print(vacc_dates)\n",
    "\n",
    "# -> string -> need to convert to pandas datetime"
   ]
  },
  {
   "cell_type": "code",
   "execution_count": 91,
   "metadata": {},
   "outputs": [
    {
     "output_type": "execute_result",
     "data": {
      "text/plain": [
       "            country iso_code        date  total_vaccinations  \\\n",
       "date                                                           \n",
       "2020-12-27  Austria      AUT  2020-12-27               732.0   \n",
       "2020-12-28  Austria      AUT  2020-12-28              2032.0   \n",
       "2020-12-29  Austria      AUT  2020-12-29              3653.0   \n",
       "2020-12-30  Austria      AUT  2020-12-30              5005.0   \n",
       "2020-12-31  Austria      AUT  2020-12-31              5013.0   \n",
       "\n",
       "            people_vaccinated  people_fully_vaccinated  \\\n",
       "date                                                     \n",
       "2020-12-27              732.0                      NaN   \n",
       "2020-12-28             2032.0                      NaN   \n",
       "2020-12-29             3653.0                      NaN   \n",
       "2020-12-30             5005.0                      NaN   \n",
       "2020-12-31             5013.0                      NaN   \n",
       "\n",
       "            daily_vaccinations_raw  daily_vaccinations  \\\n",
       "date                                                     \n",
       "2020-12-27                     NaN                 NaN   \n",
       "2020-12-28                  1300.0              1300.0   \n",
       "2020-12-29                  1621.0              1460.0   \n",
       "2020-12-30                  1352.0              1424.0   \n",
       "2020-12-31                     8.0              1070.0   \n",
       "\n",
       "            total_vaccinations_per_hundred  people_vaccinated_per_hundred  \\\n",
       "date                                                                        \n",
       "2020-12-27                            0.01                           0.01   \n",
       "2020-12-28                            0.02                           0.02   \n",
       "2020-12-29                            0.04                           0.04   \n",
       "2020-12-30                            0.06                           0.06   \n",
       "2020-12-31                            0.06                           0.06   \n",
       "\n",
       "            people_fully_vaccinated_per_hundred  \\\n",
       "date                                              \n",
       "2020-12-27                                  NaN   \n",
       "2020-12-28                                  NaN   \n",
       "2020-12-29                                  NaN   \n",
       "2020-12-30                                  NaN   \n",
       "2020-12-31                                  NaN   \n",
       "\n",
       "            daily_vaccinations_per_million  \\\n",
       "date                                         \n",
       "2020-12-27                             NaN   \n",
       "2020-12-28                           144.0   \n",
       "2020-12-29                           162.0   \n",
       "2020-12-30                           158.0   \n",
       "2020-12-31                           119.0   \n",
       "\n",
       "                                                     vaccines  \\\n",
       "date                                                            \n",
       "2020-12-27  Johnson&Johnson, Moderna, Oxford/AstraZeneca, ...   \n",
       "2020-12-28  Johnson&Johnson, Moderna, Oxford/AstraZeneca, ...   \n",
       "2020-12-29  Johnson&Johnson, Moderna, Oxford/AstraZeneca, ...   \n",
       "2020-12-30  Johnson&Johnson, Moderna, Oxford/AstraZeneca, ...   \n",
       "2020-12-31  Johnson&Johnson, Moderna, Oxford/AstraZeneca, ...   \n",
       "\n",
       "                   source_name  \\\n",
       "date                             \n",
       "2020-12-27  Ministry of Health   \n",
       "2020-12-28  Ministry of Health   \n",
       "2020-12-29  Ministry of Health   \n",
       "2020-12-30  Ministry of Health   \n",
       "2020-12-31  Ministry of Health   \n",
       "\n",
       "                                               source_website  \n",
       "date                                                           \n",
       "2020-12-27  https://info.gesundheitsministerium.gv.at/open...  \n",
       "2020-12-28  https://info.gesundheitsministerium.gv.at/open...  \n",
       "2020-12-29  https://info.gesundheitsministerium.gv.at/open...  \n",
       "2020-12-30  https://info.gesundheitsministerium.gv.at/open...  \n",
       "2020-12-31  https://info.gesundheitsministerium.gv.at/open...  "
      ],
      "text/html": "<div>\n<style scoped>\n    .dataframe tbody tr th:only-of-type {\n        vertical-align: middle;\n    }\n\n    .dataframe tbody tr th {\n        vertical-align: top;\n    }\n\n    .dataframe thead th {\n        text-align: right;\n    }\n</style>\n<table border=\"1\" class=\"dataframe\">\n  <thead>\n    <tr style=\"text-align: right;\">\n      <th></th>\n      <th>country</th>\n      <th>iso_code</th>\n      <th>date</th>\n      <th>total_vaccinations</th>\n      <th>people_vaccinated</th>\n      <th>people_fully_vaccinated</th>\n      <th>daily_vaccinations_raw</th>\n      <th>daily_vaccinations</th>\n      <th>total_vaccinations_per_hundred</th>\n      <th>people_vaccinated_per_hundred</th>\n      <th>people_fully_vaccinated_per_hundred</th>\n      <th>daily_vaccinations_per_million</th>\n      <th>vaccines</th>\n      <th>source_name</th>\n      <th>source_website</th>\n    </tr>\n    <tr>\n      <th>date</th>\n      <th></th>\n      <th></th>\n      <th></th>\n      <th></th>\n      <th></th>\n      <th></th>\n      <th></th>\n      <th></th>\n      <th></th>\n      <th></th>\n      <th></th>\n      <th></th>\n      <th></th>\n      <th></th>\n      <th></th>\n    </tr>\n  </thead>\n  <tbody>\n    <tr>\n      <th>2020-12-27</th>\n      <td>Austria</td>\n      <td>AUT</td>\n      <td>2020-12-27</td>\n      <td>732.0</td>\n      <td>732.0</td>\n      <td>NaN</td>\n      <td>NaN</td>\n      <td>NaN</td>\n      <td>0.01</td>\n      <td>0.01</td>\n      <td>NaN</td>\n      <td>NaN</td>\n      <td>Johnson&amp;Johnson, Moderna, Oxford/AstraZeneca, ...</td>\n      <td>Ministry of Health</td>\n      <td>https://info.gesundheitsministerium.gv.at/open...</td>\n    </tr>\n    <tr>\n      <th>2020-12-28</th>\n      <td>Austria</td>\n      <td>AUT</td>\n      <td>2020-12-28</td>\n      <td>2032.0</td>\n      <td>2032.0</td>\n      <td>NaN</td>\n      <td>1300.0</td>\n      <td>1300.0</td>\n      <td>0.02</td>\n      <td>0.02</td>\n      <td>NaN</td>\n      <td>144.0</td>\n      <td>Johnson&amp;Johnson, Moderna, Oxford/AstraZeneca, ...</td>\n      <td>Ministry of Health</td>\n      <td>https://info.gesundheitsministerium.gv.at/open...</td>\n    </tr>\n    <tr>\n      <th>2020-12-29</th>\n      <td>Austria</td>\n      <td>AUT</td>\n      <td>2020-12-29</td>\n      <td>3653.0</td>\n      <td>3653.0</td>\n      <td>NaN</td>\n      <td>1621.0</td>\n      <td>1460.0</td>\n      <td>0.04</td>\n      <td>0.04</td>\n      <td>NaN</td>\n      <td>162.0</td>\n      <td>Johnson&amp;Johnson, Moderna, Oxford/AstraZeneca, ...</td>\n      <td>Ministry of Health</td>\n      <td>https://info.gesundheitsministerium.gv.at/open...</td>\n    </tr>\n    <tr>\n      <th>2020-12-30</th>\n      <td>Austria</td>\n      <td>AUT</td>\n      <td>2020-12-30</td>\n      <td>5005.0</td>\n      <td>5005.0</td>\n      <td>NaN</td>\n      <td>1352.0</td>\n      <td>1424.0</td>\n      <td>0.06</td>\n      <td>0.06</td>\n      <td>NaN</td>\n      <td>158.0</td>\n      <td>Johnson&amp;Johnson, Moderna, Oxford/AstraZeneca, ...</td>\n      <td>Ministry of Health</td>\n      <td>https://info.gesundheitsministerium.gv.at/open...</td>\n    </tr>\n    <tr>\n      <th>2020-12-31</th>\n      <td>Austria</td>\n      <td>AUT</td>\n      <td>2020-12-31</td>\n      <td>5013.0</td>\n      <td>5013.0</td>\n      <td>NaN</td>\n      <td>8.0</td>\n      <td>1070.0</td>\n      <td>0.06</td>\n      <td>0.06</td>\n      <td>NaN</td>\n      <td>119.0</td>\n      <td>Johnson&amp;Johnson, Moderna, Oxford/AstraZeneca, ...</td>\n      <td>Ministry of Health</td>\n      <td>https://info.gesundheitsministerium.gv.at/open...</td>\n    </tr>\n  </tbody>\n</table>\n</div>"
     },
     "metadata": {},
     "execution_count": 91
    }
   ],
   "source": [
    "vacc_dates = pd.to_datetime(vacc_dates)\n",
    "df_europ_vacc.index = pd.to_datetime(df_europ_vacc[\"date\"])\n",
    "df_europ_vacc.head()\n"
   ]
  },
  {
   "cell_type": "code",
   "execution_count": 92,
   "metadata": {},
   "outputs": [
    {
     "output_type": "stream",
     "name": "stderr",
     "text": [
      "C:\\Users\\sscho\\AppData\\Local\\Programs\\Python\\Python39\\lib\\site-packages\\pandas\\core\\frame.py:4308: SettingWithCopyWarning: \nA value is trying to be set on a copy of a slice from a DataFrame\n\nSee the caveats in the documentation: https://pandas.pydata.org/pandas-docs/stable/user_guide/indexing.html#returning-a-view-versus-a-copy\n  return super().drop(\n"
     ]
    },
    {
     "output_type": "execute_result",
     "data": {
      "text/plain": [
       "            country iso_code  total_vaccinations  people_vaccinated  \\\n",
       "date                                                                  \n",
       "2020-12-27  Austria      AUT               732.0              732.0   \n",
       "2020-12-28  Austria      AUT              2032.0             2032.0   \n",
       "2020-12-29  Austria      AUT              3653.0             3653.0   \n",
       "2020-12-30  Austria      AUT              5005.0             5005.0   \n",
       "2020-12-31  Austria      AUT              5013.0             5013.0   \n",
       "...             ...      ...                 ...                ...   \n",
       "2021-04-30   Sweden      SWE           3266894.0          2511121.0   \n",
       "2021-05-01   Sweden      SWE                 NaN                NaN   \n",
       "2021-05-02   Sweden      SWE                 NaN                NaN   \n",
       "2021-05-03   Sweden      SWE                 NaN                NaN   \n",
       "2021-05-04   Sweden      SWE           3451239.0          2681307.0   \n",
       "\n",
       "            people_fully_vaccinated  daily_vaccinations_raw  \\\n",
       "date                                                          \n",
       "2020-12-27                      NaN                     NaN   \n",
       "2020-12-28                      NaN                  1300.0   \n",
       "2020-12-29                      NaN                  1621.0   \n",
       "2020-12-30                      NaN                  1352.0   \n",
       "2020-12-31                      NaN                     8.0   \n",
       "...                             ...                     ...   \n",
       "2021-04-30                 755773.0                123960.0   \n",
       "2021-05-01                      NaN                     NaN   \n",
       "2021-05-02                      NaN                     NaN   \n",
       "2021-05-03                      NaN                     NaN   \n",
       "2021-05-04                 769932.0                     NaN   \n",
       "\n",
       "            daily_vaccinations  total_vaccinations_per_hundred  \\\n",
       "date                                                             \n",
       "2020-12-27                 NaN                            0.01   \n",
       "2020-12-28              1300.0                            0.02   \n",
       "2020-12-29              1460.0                            0.04   \n",
       "2020-12-30              1424.0                            0.06   \n",
       "2020-12-31              1070.0                            0.06   \n",
       "...                        ...                             ...   \n",
       "2021-04-30             59597.0                           32.35   \n",
       "2021-05-01             60125.0                             NaN   \n",
       "2021-05-02             60654.0                             NaN   \n",
       "2021-05-03             61182.0                             NaN   \n",
       "2021-05-04             61710.0                           34.17   \n",
       "\n",
       "            people_vaccinated_per_hundred  \\\n",
       "date                                        \n",
       "2020-12-27                           0.01   \n",
       "2020-12-28                           0.02   \n",
       "2020-12-29                           0.04   \n",
       "2020-12-30                           0.06   \n",
       "2020-12-31                           0.06   \n",
       "...                                   ...   \n",
       "2021-04-30                          24.86   \n",
       "2021-05-01                            NaN   \n",
       "2021-05-02                            NaN   \n",
       "2021-05-03                            NaN   \n",
       "2021-05-04                          26.55   \n",
       "\n",
       "            people_fully_vaccinated_per_hundred  \\\n",
       "date                                              \n",
       "2020-12-27                                  NaN   \n",
       "2020-12-28                                  NaN   \n",
       "2020-12-29                                  NaN   \n",
       "2020-12-30                                  NaN   \n",
       "2020-12-31                                  NaN   \n",
       "...                                         ...   \n",
       "2021-04-30                                 7.48   \n",
       "2021-05-01                                  NaN   \n",
       "2021-05-02                                  NaN   \n",
       "2021-05-03                                  NaN   \n",
       "2021-05-04                                 7.62   \n",
       "\n",
       "            daily_vaccinations_per_million  \\\n",
       "date                                         \n",
       "2020-12-27                             NaN   \n",
       "2020-12-28                           144.0   \n",
       "2020-12-29                           162.0   \n",
       "2020-12-30                           158.0   \n",
       "2020-12-31                           119.0   \n",
       "...                                    ...   \n",
       "2021-04-30                          5901.0   \n",
       "2021-05-01                          5953.0   \n",
       "2021-05-02                          6006.0   \n",
       "2021-05-03                          6058.0   \n",
       "2021-05-04                          6110.0   \n",
       "\n",
       "                                                     vaccines  \\\n",
       "date                                                            \n",
       "2020-12-27  Johnson&Johnson, Moderna, Oxford/AstraZeneca, ...   \n",
       "2020-12-28  Johnson&Johnson, Moderna, Oxford/AstraZeneca, ...   \n",
       "2020-12-29  Johnson&Johnson, Moderna, Oxford/AstraZeneca, ...   \n",
       "2020-12-30  Johnson&Johnson, Moderna, Oxford/AstraZeneca, ...   \n",
       "2020-12-31  Johnson&Johnson, Moderna, Oxford/AstraZeneca, ...   \n",
       "...                                                       ...   \n",
       "2021-04-30                Oxford/AstraZeneca, Pfizer/BioNTech   \n",
       "2021-05-01                Oxford/AstraZeneca, Pfizer/BioNTech   \n",
       "2021-05-02                Oxford/AstraZeneca, Pfizer/BioNTech   \n",
       "2021-05-03                Oxford/AstraZeneca, Pfizer/BioNTech   \n",
       "2021-05-04                Oxford/AstraZeneca, Pfizer/BioNTech   \n",
       "\n",
       "                               source_name  \\\n",
       "date                                         \n",
       "2020-12-27              Ministry of Health   \n",
       "2020-12-28              Ministry of Health   \n",
       "2020-12-29              Ministry of Health   \n",
       "2020-12-30              Ministry of Health   \n",
       "2020-12-31              Ministry of Health   \n",
       "...                                    ...   \n",
       "2021-04-30  Public Health Agency of Sweden   \n",
       "2021-05-01  Public Health Agency of Sweden   \n",
       "2021-05-02  Public Health Agency of Sweden   \n",
       "2021-05-03  Public Health Agency of Sweden   \n",
       "2021-05-04  Public Health Agency of Sweden   \n",
       "\n",
       "                                               source_website  \n",
       "date                                                           \n",
       "2020-12-27  https://info.gesundheitsministerium.gv.at/open...  \n",
       "2020-12-28  https://info.gesundheitsministerium.gv.at/open...  \n",
       "2020-12-29  https://info.gesundheitsministerium.gv.at/open...  \n",
       "2020-12-30  https://info.gesundheitsministerium.gv.at/open...  \n",
       "2020-12-31  https://info.gesundheitsministerium.gv.at/open...  \n",
       "...                                                       ...  \n",
       "2021-04-30  https://www.folkhalsomyndigheten.se/smittskydd...  \n",
       "2021-05-01  https://www.folkhalsomyndigheten.se/smittskydd...  \n",
       "2021-05-02  https://www.folkhalsomyndigheten.se/smittskydd...  \n",
       "2021-05-03  https://www.folkhalsomyndigheten.se/smittskydd...  \n",
       "2021-05-04  https://www.folkhalsomyndigheten.se/smittskydd...  \n",
       "\n",
       "[3753 rows x 14 columns]"
      ],
      "text/html": "<div>\n<style scoped>\n    .dataframe tbody tr th:only-of-type {\n        vertical-align: middle;\n    }\n\n    .dataframe tbody tr th {\n        vertical-align: top;\n    }\n\n    .dataframe thead th {\n        text-align: right;\n    }\n</style>\n<table border=\"1\" class=\"dataframe\">\n  <thead>\n    <tr style=\"text-align: right;\">\n      <th></th>\n      <th>country</th>\n      <th>iso_code</th>\n      <th>total_vaccinations</th>\n      <th>people_vaccinated</th>\n      <th>people_fully_vaccinated</th>\n      <th>daily_vaccinations_raw</th>\n      <th>daily_vaccinations</th>\n      <th>total_vaccinations_per_hundred</th>\n      <th>people_vaccinated_per_hundred</th>\n      <th>people_fully_vaccinated_per_hundred</th>\n      <th>daily_vaccinations_per_million</th>\n      <th>vaccines</th>\n      <th>source_name</th>\n      <th>source_website</th>\n    </tr>\n    <tr>\n      <th>date</th>\n      <th></th>\n      <th></th>\n      <th></th>\n      <th></th>\n      <th></th>\n      <th></th>\n      <th></th>\n      <th></th>\n      <th></th>\n      <th></th>\n      <th></th>\n      <th></th>\n      <th></th>\n      <th></th>\n    </tr>\n  </thead>\n  <tbody>\n    <tr>\n      <th>2020-12-27</th>\n      <td>Austria</td>\n      <td>AUT</td>\n      <td>732.0</td>\n      <td>732.0</td>\n      <td>NaN</td>\n      <td>NaN</td>\n      <td>NaN</td>\n      <td>0.01</td>\n      <td>0.01</td>\n      <td>NaN</td>\n      <td>NaN</td>\n      <td>Johnson&amp;Johnson, Moderna, Oxford/AstraZeneca, ...</td>\n      <td>Ministry of Health</td>\n      <td>https://info.gesundheitsministerium.gv.at/open...</td>\n    </tr>\n    <tr>\n      <th>2020-12-28</th>\n      <td>Austria</td>\n      <td>AUT</td>\n      <td>2032.0</td>\n      <td>2032.0</td>\n      <td>NaN</td>\n      <td>1300.0</td>\n      <td>1300.0</td>\n      <td>0.02</td>\n      <td>0.02</td>\n      <td>NaN</td>\n      <td>144.0</td>\n      <td>Johnson&amp;Johnson, Moderna, Oxford/AstraZeneca, ...</td>\n      <td>Ministry of Health</td>\n      <td>https://info.gesundheitsministerium.gv.at/open...</td>\n    </tr>\n    <tr>\n      <th>2020-12-29</th>\n      <td>Austria</td>\n      <td>AUT</td>\n      <td>3653.0</td>\n      <td>3653.0</td>\n      <td>NaN</td>\n      <td>1621.0</td>\n      <td>1460.0</td>\n      <td>0.04</td>\n      <td>0.04</td>\n      <td>NaN</td>\n      <td>162.0</td>\n      <td>Johnson&amp;Johnson, Moderna, Oxford/AstraZeneca, ...</td>\n      <td>Ministry of Health</td>\n      <td>https://info.gesundheitsministerium.gv.at/open...</td>\n    </tr>\n    <tr>\n      <th>2020-12-30</th>\n      <td>Austria</td>\n      <td>AUT</td>\n      <td>5005.0</td>\n      <td>5005.0</td>\n      <td>NaN</td>\n      <td>1352.0</td>\n      <td>1424.0</td>\n      <td>0.06</td>\n      <td>0.06</td>\n      <td>NaN</td>\n      <td>158.0</td>\n      <td>Johnson&amp;Johnson, Moderna, Oxford/AstraZeneca, ...</td>\n      <td>Ministry of Health</td>\n      <td>https://info.gesundheitsministerium.gv.at/open...</td>\n    </tr>\n    <tr>\n      <th>2020-12-31</th>\n      <td>Austria</td>\n      <td>AUT</td>\n      <td>5013.0</td>\n      <td>5013.0</td>\n      <td>NaN</td>\n      <td>8.0</td>\n      <td>1070.0</td>\n      <td>0.06</td>\n      <td>0.06</td>\n      <td>NaN</td>\n      <td>119.0</td>\n      <td>Johnson&amp;Johnson, Moderna, Oxford/AstraZeneca, ...</td>\n      <td>Ministry of Health</td>\n      <td>https://info.gesundheitsministerium.gv.at/open...</td>\n    </tr>\n    <tr>\n      <th>...</th>\n      <td>...</td>\n      <td>...</td>\n      <td>...</td>\n      <td>...</td>\n      <td>...</td>\n      <td>...</td>\n      <td>...</td>\n      <td>...</td>\n      <td>...</td>\n      <td>...</td>\n      <td>...</td>\n      <td>...</td>\n      <td>...</td>\n      <td>...</td>\n    </tr>\n    <tr>\n      <th>2021-04-30</th>\n      <td>Sweden</td>\n      <td>SWE</td>\n      <td>3266894.0</td>\n      <td>2511121.0</td>\n      <td>755773.0</td>\n      <td>123960.0</td>\n      <td>59597.0</td>\n      <td>32.35</td>\n      <td>24.86</td>\n      <td>7.48</td>\n      <td>5901.0</td>\n      <td>Oxford/AstraZeneca, Pfizer/BioNTech</td>\n      <td>Public Health Agency of Sweden</td>\n      <td>https://www.folkhalsomyndigheten.se/smittskydd...</td>\n    </tr>\n    <tr>\n      <th>2021-05-01</th>\n      <td>Sweden</td>\n      <td>SWE</td>\n      <td>NaN</td>\n      <td>NaN</td>\n      <td>NaN</td>\n      <td>NaN</td>\n      <td>60125.0</td>\n      <td>NaN</td>\n      <td>NaN</td>\n      <td>NaN</td>\n      <td>5953.0</td>\n      <td>Oxford/AstraZeneca, Pfizer/BioNTech</td>\n      <td>Public Health Agency of Sweden</td>\n      <td>https://www.folkhalsomyndigheten.se/smittskydd...</td>\n    </tr>\n    <tr>\n      <th>2021-05-02</th>\n      <td>Sweden</td>\n      <td>SWE</td>\n      <td>NaN</td>\n      <td>NaN</td>\n      <td>NaN</td>\n      <td>NaN</td>\n      <td>60654.0</td>\n      <td>NaN</td>\n      <td>NaN</td>\n      <td>NaN</td>\n      <td>6006.0</td>\n      <td>Oxford/AstraZeneca, Pfizer/BioNTech</td>\n      <td>Public Health Agency of Sweden</td>\n      <td>https://www.folkhalsomyndigheten.se/smittskydd...</td>\n    </tr>\n    <tr>\n      <th>2021-05-03</th>\n      <td>Sweden</td>\n      <td>SWE</td>\n      <td>NaN</td>\n      <td>NaN</td>\n      <td>NaN</td>\n      <td>NaN</td>\n      <td>61182.0</td>\n      <td>NaN</td>\n      <td>NaN</td>\n      <td>NaN</td>\n      <td>6058.0</td>\n      <td>Oxford/AstraZeneca, Pfizer/BioNTech</td>\n      <td>Public Health Agency of Sweden</td>\n      <td>https://www.folkhalsomyndigheten.se/smittskydd...</td>\n    </tr>\n    <tr>\n      <th>2021-05-04</th>\n      <td>Sweden</td>\n      <td>SWE</td>\n      <td>3451239.0</td>\n      <td>2681307.0</td>\n      <td>769932.0</td>\n      <td>NaN</td>\n      <td>61710.0</td>\n      <td>34.17</td>\n      <td>26.55</td>\n      <td>7.62</td>\n      <td>6110.0</td>\n      <td>Oxford/AstraZeneca, Pfizer/BioNTech</td>\n      <td>Public Health Agency of Sweden</td>\n      <td>https://www.folkhalsomyndigheten.se/smittskydd...</td>\n    </tr>\n  </tbody>\n</table>\n<p>3753 rows × 14 columns</p>\n</div>"
     },
     "metadata": {},
     "execution_count": 92
    }
   ],
   "source": [
    "# after droping date column\n",
    "df_europ_vacc.drop(columns=[\"date\"], inplace=True)\n",
    "df_europ_vacc"
   ]
  },
  {
   "cell_type": "code",
   "execution_count": 93,
   "metadata": {},
   "outputs": [
    {
     "output_type": "execute_result",
     "data": {
      "text/plain": [
       "DatetimeIndex(['2020-12-27', '2020-12-28', '2020-12-29', '2020-12-30',\n",
       "               '2020-12-31', '2021-01-01', '2021-01-02', '2021-01-03',\n",
       "               '2021-01-04', '2021-01-05',\n",
       "               ...\n",
       "               '2021-04-25', '2021-04-26', '2021-04-27', '2021-04-28',\n",
       "               '2021-04-29', '2021-04-30', '2021-05-01', '2021-05-02',\n",
       "               '2021-05-03', '2021-05-04'],\n",
       "              dtype='datetime64[ns]', name='date', length=3753, freq=None)"
      ]
     },
     "metadata": {},
     "execution_count": 93
    }
   ],
   "source": [
    "# check if index is datetime\n",
    "df_europ_vacc.index\n",
    "# -> DateTimeIndex -> success"
   ]
  },
  {
   "cell_type": "code",
   "execution_count": 94,
   "metadata": {},
   "outputs": [
    {
     "output_type": "execute_result",
     "data": {
      "text/plain": [
       "country                                   0\n",
       "iso_code                                  0\n",
       "total_vaccinations                      625\n",
       "people_vaccinated                       672\n",
       "people_fully_vaccinated                1064\n",
       "daily_vaccinations_raw                  885\n",
       "daily_vaccinations                       30\n",
       "total_vaccinations_per_hundred          625\n",
       "people_vaccinated_per_hundred           672\n",
       "people_fully_vaccinated_per_hundred    1064\n",
       "daily_vaccinations_per_million           30\n",
       "vaccines                                  0\n",
       "source_name                               0\n",
       "source_website                            0\n",
       "dtype: int64"
      ]
     },
     "metadata": {},
     "execution_count": 94
    }
   ],
   "source": [
    "# Check for null values\n",
    "df_europ_vacc.isnull().sum()\n",
    "# daily vaccinations only 30 null values -> good "
   ]
  },
  {
   "cell_type": "code",
   "execution_count": null,
   "metadata": {},
   "outputs": [],
   "source": [
    "# What to do with null values ?? \n",
    "# Which columns do we really want? \n",
    "\n",
    "# If we drop rows with too many null values we loose ability to merge because we loose too many days\n",
    "# Either just use daily_vaccinations (fill the nulls up with mean)\n",
    "# Or we populate for example the people_vaccinated column ourselfse\n",
    "\n",
    "# After, we need to figure the time intervall out\n",
    "# Cyp has the fewest days (108)\n",
    "# LIE as the most (131)\n",
    "# daily cases datasets starts at 01.03.2021 "
   ]
  }
 ]
}