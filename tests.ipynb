{
 "metadata": {
  "language_info": {
   "codemirror_mode": {
    "name": "ipython",
    "version": 3
   },
   "file_extension": ".py",
   "mimetype": "text/x-python",
   "name": "python",
   "nbconvert_exporter": "python",
   "pygments_lexer": "ipython3",
   "version": "3.9.4"
  },
  "orig_nbformat": 2,
  "kernelspec": {
   "name": "python394jvsc74a57bd0683b2bfffa77c69086b4bf7e9115c8c2d5dab6c8ad511760e860f6a3d9265adc",
   "display_name": "Python 3.9.4 64-bit"
  }
 },
 "nbformat": 4,
 "nbformat_minor": 2,
 "cells": [
  {
   "cell_type": "code",
   "execution_count": 5,
   "metadata": {},
   "outputs": [
    {
     "output_type": "stream",
     "name": "stdout",
     "text": [
      "['AT', 'BE', 'BG', 'CY', 'CZ', 'DE', 'DK', 'EE', 'EL', 'ES', 'FI', 'FR', 'HR', 'HU', 'IE', 'IS', 'IT', 'LI', 'LT', 'LU', 'LV', 'MT', 'NL', 'NO', 'PL', 'PT', 'RO', 'SE', 'SI', 'SK']\n['AT', 'BE', 'BG', 'CY', 'CZ', 'DE', 'DK', 'EE', 'EL', 'ES', 'FI', 'FR', 'HR', 'HU', 'IE', 'IS', 'IT', 'LI', 'LT', 'LU', 'LV', 'MT', 'NL', 'NO', 'PL', 'PT', 'RO', 'SE', 'SI', 'SK']\n['AT', 'BE', 'BG', 'CY', 'CZ', 'DE', 'DK', 'EE', 'EL', 'ES', 'FI', 'FR', 'HR', 'HU', 'IE', 'IS', 'IT', 'LI', 'LT', 'LU', 'LV', 'MT', 'NL', 'NO', 'PL', 'PT', 'RO', 'SE', 'SI', 'SK']\n"
     ]
    }
   ],
   "source": [
    "import numpy as np\n",
    "import pandas as pd\n",
    "\n",
    "df_vaccination = pd.read_csv(\"vaccination/vaccination in the EU.csv\")\n",
    "df_cases = pd.read_csv(\"cases_deaths/daily number of new reported.csv\")\n",
    "df_variants = pd.read_csv(\"variants/variants in the EU.csv\")\n",
    "\n",
    "vac_count = sorted(df_vaccination[\"ReportingCountry\"].unique())\n",
    "cases_count = sorted(df_cases[\"geoId\"].unique())\n",
    "var_country_count = sorted(df_variants[\"country_code\"].unique())\n",
    "\n",
    "print(vac_count)\n",
    "print(cases_count)\n",
    "print(var_country_count)"
   ]
  },
  {
   "cell_type": "code",
   "execution_count": 2,
   "metadata": {},
   "outputs": [
    {
     "output_type": "stream",
     "name": "stdout",
     "text": [
      "  YearWeekISO  FirstDose  FirstDoseRefused  SecondDose  UnknownDose  \\\n0    2020-W53          0               0.0           0            0   \n1    2020-W53       2655               0.0           0            0   \n2    2020-W53          0               0.0           0            0   \n3    2020-W53          0               0.0           0            0   \n4    2020-W53       2368               0.0           0            0   \n\n   NumberDosesReceived Region  Population ReportingCountry TargetGroup  \\\n0                  0.0     AT     8901064               AT    1_Age60+   \n1              61425.0     AT     8901064               AT    1_Age60+   \n2                  0.0     AT     8901064               AT    1_Age60+   \n3                  0.0     AT     8901064               AT    1_Age60+   \n4              61425.0     AT     8901064               AT    1_Age<60   \n\n  Vaccine  Denominator  \n0      AZ    2259262.0  \n1     COM    2259262.0  \n2   JANSS    2259262.0  \n3     MOD    2259262.0  \n4     COM    5099181.0  \n   country country_code year_week  source  new_cases  number_sequenced  \\\n0  Austria           AT   2020-40  GISAID       5152               4.0   \n1  Austria           AT   2020-40  GISAID       5152               4.0   \n2  Austria           AT   2020-40  GISAID       5152               4.0   \n3  Austria           AT   2020-40  GISAID       5152               4.0   \n4  Austria           AT   2020-41  GISAID       7365              24.0   \n\n   percent_cases_sequenced valid_denominator  variant  \\\n0                      0.1               Yes  B.1.1.7   \n1                      0.1               Yes  B.1.351   \n2                      0.1               Yes      P.1   \n3                      0.1               Yes    Other   \n4                      0.3               Yes  B.1.1.7   \n\n   number_detections_variant  percent_variant  \n0                          0              0.0  \n1                          0              0.0  \n2                          0              0.0  \n3                          4            100.0  \n4                          0              0.0  \n      dateRep  day  month  year  cases  deaths countriesAndTerritories geoId  \\\n0  29/04/2021   29      4  2021   2286      29                 Austria    AT   \n1  28/04/2021   28      4  2021   1557      20                 Austria    AT   \n2  27/04/2021   27      4  2021   1380      22                 Austria    AT   \n3  26/04/2021   26      4  2021   2091      11                 Austria    AT   \n4  25/04/2021   25      4  2021   2231      15                 Austria    AT   \n\n  countryterritoryCode  popData2020 continentExp  \n0                  AUT      8901064       Europe  \n1                  AUT      8901064       Europe  \n2                  AUT      8901064       Europe  \n3                  AUT      8901064       Europe  \n4                  AUT      8901064       Europe  \n"
     ]
    }
   ],
   "source": [
    "print(df_vaccination.head())\n",
    "print(df_variants.head())\n",
    "print(df_cases.head())"
   ]
  },
  {
   "cell_type": "code",
   "execution_count": 6,
   "metadata": {},
   "outputs": [
    {
     "output_type": "stream",
     "name": "stdout",
     "text": [
      "        dateRep  day  month  year    cases  deaths countriesAndTerritories  \\\n600  29/04/2021   29      4  2021    24736     264                 Germany   \n601  28/04/2021   28      4  2021    22231     312                 Germany   \n602  27/04/2021   27      4  2021    10976     344                 Germany   \n603  26/04/2021   26      4  2021    11907      60                 Germany   \n604  25/04/2021   25      4  2021    18773     120                 Germany   \n605  24/04/2021   24      4  2021    23392     286                 Germany   \n606  23/04/2021   23      4  2021    27543     265                 Germany   \n607  22/04/2021   22      4  2021    29518     259                 Germany   \n608  21/04/2021   21      4  2021    24884     331                 Germany   \n609  20/04/2021   20      4  2021     9609     297                 Germany   \n610  19/04/2021   19      4  2021    11437      92                 Germany   \n611  18/04/2021   18      4  2021    19185      67                 Germany   \n612  17/04/2021   17      4  2021    23804     219                 Germany   \n613  16/04/2021   16      4  2021    25831     247                 Germany   \n614  15/04/2021   15      4  2021    29426     293                 Germany   \n615  14/04/2021   14      4  2021    21693     342                 Germany   \n616  13/04/2021   13      4  2021    10810     294                 Germany   \n617  12/04/2021   12      4  2021    13245      99                 Germany   \n618  11/04/2021   11      4  2021    17855     104                 Germany   \n619  10/04/2021   10      4  2021    24097     246                 Germany   \n620  09/04/2021    9      4  2021    25464     296                 Germany   \n621  08/04/2021    8      4  2021    20407     306                 Germany   \n622  07/04/2021    7      4  2021     9677     298                 Germany   \n623  06/04/2021    6      4  2021     6885      90                 Germany   \n624  05/04/2021    5      4  2021     8497      50                 Germany   \n625  04/04/2021    4      4  2021    12196      68                 Germany   \n626  03/04/2021    3      4  2021    18129     120                 Germany   \n627  02/04/2021    2      4  2021    21888     232                 Germany   \n628  01/04/2021    1      4  2021    24300     201                 Germany   \n629  31/03/2021   31      3  2021    17051     249                 Germany   \n630  30/03/2021   30      3  2021     9549     180                 Germany   \n631  29/03/2021   29      3  2021     9872      43                 Germany   \n632  28/03/2021   28      3  2021    17176      90                 Germany   \n633  27/03/2021   27      3  2021    20472     157                 Germany   \n634  26/03/2021   26      3  2021    21573     183                 Germany   \n635  25/03/2021   25      3  2021    22657     228                 Germany   \n636  24/03/2021   24      3  2021    15813     248                 Germany   \n637  23/03/2021   23      3  2021     7485     250                 Germany   \n638  22/03/2021   22      3  2021     7709      50                 Germany   \n639  21/03/2021   21      3  2021    13733      99                 Germany   \n640  20/03/2021   20      3  2021    16033     207                 Germany   \n641  19/03/2021   19      3  2021    17482     226                 Germany   \n642  18/03/2021   18      3  2021    17504     227                 Germany   \n643  17/03/2021   17      3  2021    13435     249                 Germany   \n644  16/03/2021   16      3  2021     5480     238                 Germany   \n645  15/03/2021   15      3  2021     6604      47                 Germany   \n646  14/03/2021   14      3  2021    10790      70                 Germany   \n647  13/03/2021   13      3  2021    12674     239                 Germany   \n648  12/03/2021   12      3  2021    12834     252                 Germany   \n649  11/03/2021   11      3  2021    14356     321                 Germany   \n650  10/03/2021   10      3  2021     9146     300                 Germany   \n651  09/03/2021    9      3  2021     4252     255                 Germany   \n652  08/03/2021    8      3  2021     5011      34                 Germany   \n653  07/03/2021    7      3  2021     8103      96                 Germany   \n654  06/03/2021    6      3  2021     9557     300                 Germany   \n655  05/03/2021    5      3  2021    10580     264                 Germany   \n656  04/03/2021    4      3  2021    11912     359                 Germany   \n657  03/03/2021    3      3  2021     9019     418                 Germany   \n658  02/03/2021    2      3  2021     3943     358                 Germany   \n659  01/03/2021    1      3  2021  2447068   70105                 Germany   \n\n    geoId countryterritoryCode  popData2020 continentExp  \n600    DE                  DEU     83166711       Europe  \n601    DE                  DEU     83166711       Europe  \n602    DE                  DEU     83166711       Europe  \n603    DE                  DEU     83166711       Europe  \n604    DE                  DEU     83166711       Europe  \n605    DE                  DEU     83166711       Europe  \n606    DE                  DEU     83166711       Europe  \n607    DE                  DEU     83166711       Europe  \n608    DE                  DEU     83166711       Europe  \n609    DE                  DEU     83166711       Europe  \n610    DE                  DEU     83166711       Europe  \n611    DE                  DEU     83166711       Europe  \n612    DE                  DEU     83166711       Europe  \n613    DE                  DEU     83166711       Europe  \n614    DE                  DEU     83166711       Europe  \n615    DE                  DEU     83166711       Europe  \n616    DE                  DEU     83166711       Europe  \n617    DE                  DEU     83166711       Europe  \n618    DE                  DEU     83166711       Europe  \n619    DE                  DEU     83166711       Europe  \n620    DE                  DEU     83166711       Europe  \n621    DE                  DEU     83166711       Europe  \n622    DE                  DEU     83166711       Europe  \n623    DE                  DEU     83166711       Europe  \n624    DE                  DEU     83166711       Europe  \n625    DE                  DEU     83166711       Europe  \n626    DE                  DEU     83166711       Europe  \n627    DE                  DEU     83166711       Europe  \n628    DE                  DEU     83166711       Europe  \n629    DE                  DEU     83166711       Europe  \n630    DE                  DEU     83166711       Europe  \n631    DE                  DEU     83166711       Europe  \n632    DE                  DEU     83166711       Europe  \n633    DE                  DEU     83166711       Europe  \n634    DE                  DEU     83166711       Europe  \n635    DE                  DEU     83166711       Europe  \n636    DE                  DEU     83166711       Europe  \n637    DE                  DEU     83166711       Europe  \n638    DE                  DEU     83166711       Europe  \n639    DE                  DEU     83166711       Europe  \n640    DE                  DEU     83166711       Europe  \n641    DE                  DEU     83166711       Europe  \n642    DE                  DEU     83166711       Europe  \n643    DE                  DEU     83166711       Europe  \n644    DE                  DEU     83166711       Europe  \n645    DE                  DEU     83166711       Europe  \n646    DE                  DEU     83166711       Europe  \n647    DE                  DEU     83166711       Europe  \n648    DE                  DEU     83166711       Europe  \n649    DE                  DEU     83166711       Europe  \n650    DE                  DEU     83166711       Europe  \n651    DE                  DEU     83166711       Europe  \n652    DE                  DEU     83166711       Europe  \n653    DE                  DEU     83166711       Europe  \n654    DE                  DEU     83166711       Europe  \n655    DE                  DEU     83166711       Europe  \n656    DE                  DEU     83166711       Europe  \n657    DE                  DEU     83166711       Europe  \n658    DE                  DEU     83166711       Europe  \n659    DE                  DEU     83166711       Europe  \n"
     ]
    }
   ],
   "source": [
    "print(df_cases[df_cases[\"geoId\"] == \"DE\"])"
   ]
  },
  {
   "cell_type": "code",
   "execution_count": 9,
   "metadata": {},
   "outputs": [
    {
     "output_type": "stream",
     "name": "stdout",
     "text": [
      "     YearWeekISO  FirstDose  FirstDoseRefused  SecondDose  UnknownDose  \\\n2343    2020-W53     275874               NaN        1010            0   \n\n      NumberDosesReceived Region  Population ReportingCountry TargetGroup  \\\n2343            1174875.0     DE    83166711               DE         ALL   \n\n     Vaccine  Denominator  \n2343     COM   69488809.0  \n"
     ]
    }
   ],
   "source": [
    "print(df_vaccination[(df_vaccination[\"YearWeekISO\"] == \"2020-W53\") & (df_vaccination[\"ReportingCountry\"] == \"DE\")])"
   ]
  },
  {
   "cell_type": "code",
   "execution_count": 53,
   "metadata": {},
   "outputs": [
    {
     "output_type": "stream",
     "name": "stdout",
     "text": [
      "['BG' 'CY' 'CZ' 'DE' 'EE' 'EL' 'FI' 'FR' 'HR' 'HU' 'IE' 'IT' 'LT' 'LU'\n 'LV' 'MT' 'NL' 'NO' 'PL' 'PT' 'SE' 'SI' 'SK' 'AT' 'BE' 'DK' 'ES' 'IS'\n 'RO' 'LI']\n            ReportingCountry  NumberDosesReceived\nYearWeekISO                                      \n2020-W52                  BG              10725.0\n2020-W52                  CY               9750.0\n2020-W52                  CZ              11700.0\n2020-W52                  DE             151125.0\n2020-W52                  EE               9750.0\n...                      ...                  ...\n2021-W17                  IE              28800.0\n2021-W17                  LU              24570.0\n2021-W17                  NL                  0.0\n2021-W17                  PL            1362390.0\n2021-W17                  SK                  0.0\n\n[531 rows x 2 columns]\n"
     ]
    }
   ],
   "source": [
    "vac_weekly = df_vaccination[[\"YearWeekISO\", \"ReportingCountry\", \"NumberDosesReceived\"]].groupby(by=[\"YearWeekISO\", \"ReportingCountry\"]).sum()\n",
    "vac_weekly.reset_index(level=\"ReportingCountry\", inplace=True)\n",
    "print(vac_weekly[\"ReportingCountry\"].unique())\n",
    "\n",
    "print(vac_weekly)"
   ]
  },
  {
   "cell_type": "code",
   "execution_count": null,
   "metadata": {},
   "outputs": [],
   "source": []
  }
 ]
}